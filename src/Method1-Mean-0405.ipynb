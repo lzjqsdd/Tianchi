{
 "cells": [
  {
   "cell_type": "code",
   "execution_count": 10,
   "metadata": {
    "collapsed": false
   },
   "outputs": [],
   "source": [
    "##移除异常点\n",
    "##划分测试集\n",
    "\n",
    "import pandas as pd\n",
    "import numpy as np\n",
    "from datetime import datetime\n",
    "from datetime import timedelta\n",
    "import matplotlib.pyplot as plt\n",
    "\n",
    "df = pd.read_csv('../dataSets/training/training_20min_avg_travel_time.csv')"
   ]
  },
  {
   "cell_type": "markdown",
   "metadata": {
    "deletable": true,
    "editable": true
   },
   "source": [
    "## 计算volume"
   ]
  },
  {
   "cell_type": "code",
   "execution_count": 9,
   "metadata": {
    "collapsed": false
   },
   "outputs": [
    {
     "ename": "IOError",
     "evalue": "File dataSets/training/training_20min_avg_volume.csv does not exist",
     "output_type": "error",
     "traceback": [
      "\u001b[0;31m\u001b[0m",
      "\u001b[0;31mIOError\u001b[0mTraceback (most recent call last)",
      "\u001b[0;32m<ipython-input-9-8f083d7e06de>\u001b[0m in \u001b[0;36m<module>\u001b[0;34m()\u001b[0m\n\u001b[1;32m      4\u001b[0m \u001b[0;32mfrom\u001b[0m \u001b[0mdatetime\u001b[0m \u001b[0;32mimport\u001b[0m \u001b[0mtimedelta\u001b[0m\u001b[0;34m\u001b[0m\u001b[0m\n\u001b[1;32m      5\u001b[0m \u001b[0;34m\u001b[0m\u001b[0m\n\u001b[0;32m----> 6\u001b[0;31m \u001b[0mdf\u001b[0m \u001b[0;34m=\u001b[0m \u001b[0mpd\u001b[0m\u001b[0;34m.\u001b[0m\u001b[0mread_csv\u001b[0m\u001b[0;34m(\u001b[0m\u001b[0;34m'dataSets/training/training_20min_avg_volume.csv'\u001b[0m\u001b[0;34m)\u001b[0m\u001b[0;34m\u001b[0m\u001b[0m\n\u001b[0m\u001b[1;32m      7\u001b[0m \u001b[0;34m\u001b[0m\u001b[0m\n\u001b[1;32m      8\u001b[0m \u001b[0;34m\u001b[0m\u001b[0m\n",
      "\u001b[0;32m/home/liuzhisheng/anaconda/lib/python2.7/site-packages/pandas/io/parsers.pyc\u001b[0m in \u001b[0;36mparser_f\u001b[0;34m(filepath_or_buffer, sep, delimiter, header, names, index_col, usecols, squeeze, prefix, mangle_dupe_cols, dtype, engine, converters, true_values, false_values, skipinitialspace, skiprows, skipfooter, nrows, na_values, keep_default_na, na_filter, verbose, skip_blank_lines, parse_dates, infer_datetime_format, keep_date_col, date_parser, dayfirst, iterator, chunksize, compression, thousands, decimal, lineterminator, quotechar, quoting, escapechar, comment, encoding, dialect, tupleize_cols, error_bad_lines, warn_bad_lines, skip_footer, doublequote, delim_whitespace, as_recarray, compact_ints, use_unsigned, low_memory, buffer_lines, memory_map, float_precision)\u001b[0m\n\u001b[1;32m    560\u001b[0m                     skip_blank_lines=skip_blank_lines)\n\u001b[1;32m    561\u001b[0m \u001b[0;34m\u001b[0m\u001b[0m\n\u001b[0;32m--> 562\u001b[0;31m         \u001b[0;32mreturn\u001b[0m \u001b[0m_read\u001b[0m\u001b[0;34m(\u001b[0m\u001b[0mfilepath_or_buffer\u001b[0m\u001b[0;34m,\u001b[0m \u001b[0mkwds\u001b[0m\u001b[0;34m)\u001b[0m\u001b[0;34m\u001b[0m\u001b[0m\n\u001b[0m\u001b[1;32m    563\u001b[0m \u001b[0;34m\u001b[0m\u001b[0m\n\u001b[1;32m    564\u001b[0m     \u001b[0mparser_f\u001b[0m\u001b[0;34m.\u001b[0m\u001b[0m__name__\u001b[0m \u001b[0;34m=\u001b[0m \u001b[0mname\u001b[0m\u001b[0;34m\u001b[0m\u001b[0m\n",
      "\u001b[0;32m/home/liuzhisheng/anaconda/lib/python2.7/site-packages/pandas/io/parsers.pyc\u001b[0m in \u001b[0;36m_read\u001b[0;34m(filepath_or_buffer, kwds)\u001b[0m\n\u001b[1;32m    313\u001b[0m \u001b[0;34m\u001b[0m\u001b[0m\n\u001b[1;32m    314\u001b[0m     \u001b[0;31m# Create the parser.\u001b[0m\u001b[0;34m\u001b[0m\u001b[0;34m\u001b[0m\u001b[0m\n\u001b[0;32m--> 315\u001b[0;31m     \u001b[0mparser\u001b[0m \u001b[0;34m=\u001b[0m \u001b[0mTextFileReader\u001b[0m\u001b[0;34m(\u001b[0m\u001b[0mfilepath_or_buffer\u001b[0m\u001b[0;34m,\u001b[0m \u001b[0;34m**\u001b[0m\u001b[0mkwds\u001b[0m\u001b[0;34m)\u001b[0m\u001b[0;34m\u001b[0m\u001b[0m\n\u001b[0m\u001b[1;32m    316\u001b[0m \u001b[0;34m\u001b[0m\u001b[0m\n\u001b[1;32m    317\u001b[0m     \u001b[0;32mif\u001b[0m \u001b[0;34m(\u001b[0m\u001b[0mnrows\u001b[0m \u001b[0;32mis\u001b[0m \u001b[0;32mnot\u001b[0m \u001b[0mNone\u001b[0m\u001b[0;34m)\u001b[0m \u001b[0;32mand\u001b[0m \u001b[0;34m(\u001b[0m\u001b[0mchunksize\u001b[0m \u001b[0;32mis\u001b[0m \u001b[0;32mnot\u001b[0m \u001b[0mNone\u001b[0m\u001b[0;34m)\u001b[0m\u001b[0;34m:\u001b[0m\u001b[0;34m\u001b[0m\u001b[0m\n",
      "\u001b[0;32m/home/liuzhisheng/anaconda/lib/python2.7/site-packages/pandas/io/parsers.pyc\u001b[0m in \u001b[0;36m__init__\u001b[0;34m(self, f, engine, **kwds)\u001b[0m\n\u001b[1;32m    643\u001b[0m             \u001b[0mself\u001b[0m\u001b[0;34m.\u001b[0m\u001b[0moptions\u001b[0m\u001b[0;34m[\u001b[0m\u001b[0;34m'has_index_names'\u001b[0m\u001b[0;34m]\u001b[0m \u001b[0;34m=\u001b[0m \u001b[0mkwds\u001b[0m\u001b[0;34m[\u001b[0m\u001b[0;34m'has_index_names'\u001b[0m\u001b[0;34m]\u001b[0m\u001b[0;34m\u001b[0m\u001b[0m\n\u001b[1;32m    644\u001b[0m \u001b[0;34m\u001b[0m\u001b[0m\n\u001b[0;32m--> 645\u001b[0;31m         \u001b[0mself\u001b[0m\u001b[0;34m.\u001b[0m\u001b[0m_make_engine\u001b[0m\u001b[0;34m(\u001b[0m\u001b[0mself\u001b[0m\u001b[0;34m.\u001b[0m\u001b[0mengine\u001b[0m\u001b[0;34m)\u001b[0m\u001b[0;34m\u001b[0m\u001b[0m\n\u001b[0m\u001b[1;32m    646\u001b[0m \u001b[0;34m\u001b[0m\u001b[0m\n\u001b[1;32m    647\u001b[0m     \u001b[0;32mdef\u001b[0m \u001b[0mclose\u001b[0m\u001b[0;34m(\u001b[0m\u001b[0mself\u001b[0m\u001b[0;34m)\u001b[0m\u001b[0;34m:\u001b[0m\u001b[0;34m\u001b[0m\u001b[0m\n",
      "\u001b[0;32m/home/liuzhisheng/anaconda/lib/python2.7/site-packages/pandas/io/parsers.pyc\u001b[0m in \u001b[0;36m_make_engine\u001b[0;34m(self, engine)\u001b[0m\n\u001b[1;32m    797\u001b[0m     \u001b[0;32mdef\u001b[0m \u001b[0m_make_engine\u001b[0m\u001b[0;34m(\u001b[0m\u001b[0mself\u001b[0m\u001b[0;34m,\u001b[0m \u001b[0mengine\u001b[0m\u001b[0;34m=\u001b[0m\u001b[0;34m'c'\u001b[0m\u001b[0;34m)\u001b[0m\u001b[0;34m:\u001b[0m\u001b[0;34m\u001b[0m\u001b[0m\n\u001b[1;32m    798\u001b[0m         \u001b[0;32mif\u001b[0m \u001b[0mengine\u001b[0m \u001b[0;34m==\u001b[0m \u001b[0;34m'c'\u001b[0m\u001b[0;34m:\u001b[0m\u001b[0;34m\u001b[0m\u001b[0m\n\u001b[0;32m--> 799\u001b[0;31m             \u001b[0mself\u001b[0m\u001b[0;34m.\u001b[0m\u001b[0m_engine\u001b[0m \u001b[0;34m=\u001b[0m \u001b[0mCParserWrapper\u001b[0m\u001b[0;34m(\u001b[0m\u001b[0mself\u001b[0m\u001b[0;34m.\u001b[0m\u001b[0mf\u001b[0m\u001b[0;34m,\u001b[0m \u001b[0;34m**\u001b[0m\u001b[0mself\u001b[0m\u001b[0;34m.\u001b[0m\u001b[0moptions\u001b[0m\u001b[0;34m)\u001b[0m\u001b[0;34m\u001b[0m\u001b[0m\n\u001b[0m\u001b[1;32m    800\u001b[0m         \u001b[0;32melse\u001b[0m\u001b[0;34m:\u001b[0m\u001b[0;34m\u001b[0m\u001b[0m\n\u001b[1;32m    801\u001b[0m             \u001b[0;32mif\u001b[0m \u001b[0mengine\u001b[0m \u001b[0;34m==\u001b[0m \u001b[0;34m'python'\u001b[0m\u001b[0;34m:\u001b[0m\u001b[0;34m\u001b[0m\u001b[0m\n",
      "\u001b[0;32m/home/liuzhisheng/anaconda/lib/python2.7/site-packages/pandas/io/parsers.pyc\u001b[0m in \u001b[0;36m__init__\u001b[0;34m(self, src, **kwds)\u001b[0m\n\u001b[1;32m   1211\u001b[0m         \u001b[0mkwds\u001b[0m\u001b[0;34m[\u001b[0m\u001b[0;34m'allow_leading_cols'\u001b[0m\u001b[0;34m]\u001b[0m \u001b[0;34m=\u001b[0m \u001b[0mself\u001b[0m\u001b[0;34m.\u001b[0m\u001b[0mindex_col\u001b[0m \u001b[0;32mis\u001b[0m \u001b[0;32mnot\u001b[0m \u001b[0mFalse\u001b[0m\u001b[0;34m\u001b[0m\u001b[0m\n\u001b[1;32m   1212\u001b[0m \u001b[0;34m\u001b[0m\u001b[0m\n\u001b[0;32m-> 1213\u001b[0;31m         \u001b[0mself\u001b[0m\u001b[0;34m.\u001b[0m\u001b[0m_reader\u001b[0m \u001b[0;34m=\u001b[0m \u001b[0m_parser\u001b[0m\u001b[0;34m.\u001b[0m\u001b[0mTextReader\u001b[0m\u001b[0;34m(\u001b[0m\u001b[0msrc\u001b[0m\u001b[0;34m,\u001b[0m \u001b[0;34m**\u001b[0m\u001b[0mkwds\u001b[0m\u001b[0;34m)\u001b[0m\u001b[0;34m\u001b[0m\u001b[0m\n\u001b[0m\u001b[1;32m   1214\u001b[0m \u001b[0;34m\u001b[0m\u001b[0m\n\u001b[1;32m   1215\u001b[0m         \u001b[0;31m# XXX\u001b[0m\u001b[0;34m\u001b[0m\u001b[0;34m\u001b[0m\u001b[0m\n",
      "\u001b[0;32mpandas/parser.pyx\u001b[0m in \u001b[0;36mpandas.parser.TextReader.__cinit__ (pandas/parser.c:3427)\u001b[0;34m()\u001b[0m\n",
      "\u001b[0;32mpandas/parser.pyx\u001b[0m in \u001b[0;36mpandas.parser.TextReader._setup_parser_source (pandas/parser.c:6861)\u001b[0;34m()\u001b[0m\n",
      "\u001b[0;31mIOError\u001b[0m: File dataSets/training/training_20min_avg_volume.csv does not exist"
     ]
    }
   ],
   "source": [
    "import pandas as pd\n",
    "import numpy as np\n",
    "from datetime import datetime\n",
    "from datetime import timedelta\n",
    "\n",
    "df = pd.read_csv('dataSets/training/training_20min_avg_volume.csv')\n",
    "\n",
    "\n",
    "volume_in = {}\n",
    "volume_out = {}\n",
    "start_time  = datetime.strptime(\"2016-09-19 00:00:00\",'%Y-%m-%d %H:%M:%S')\n",
    "\n",
    "for idx in range(df.shape[0]):\n",
    "    line = df.iloc[idx]\n",
    "    tollgate = str(line['tollgate_id'])\n",
    "    stime = datetime.strptime(line['time_window'][1:20],'%Y-%m-%d %H:%M:%S')\n",
    "    day = (stime - start_time).days\n",
    "    tw_n = (stime.hour * 60 + stime.minute)/20\n",
    "    \n",
    "    if line['direction'] == 0: ##判断进/出流量\n",
    "        if tollgate not in volume_in.keys():\n",
    "            volume_in[tollgate] = np.zeros(72*29).reshape(29,72)\n",
    "        volume_in[tollgate][day][tw_n] = line['volume']\n",
    "    else:\n",
    "        if tollgate not in volume_out.keys():\n",
    "            volume_out[tollgate] = np.zeros(72*29).reshape(29,72)\n",
    "        volume_out[tollgate][day][tw_n] = line['volume']"
   ]
  },
  {
   "cell_type": "code",
   "execution_count": 69,
   "metadata": {
    "collapsed": false,
    "deletable": true,
    "editable": true
   },
   "outputs": [],
   "source": [
    "## 计算均值\n",
    "mean_volume_in = {}\n",
    "mean_volume_out = {}\n",
    "for tollgate_id in volume_in.keys():\n",
    "    totalvolume = volume_in[tollgate_id]\n",
    "    mean_volume_in[tollgate_id] = np.mean(totalvolume,axis=0)\n",
    "    \n",
    "for tollgate_id in volume_out.keys():\n",
    "    totalvolume = volume_out[tollgate_id]\n",
    "    mean_volume_out[tollgate_id] = np.mean(totalvolume,axis=0)"
   ]
  },
  {
   "cell_type": "code",
   "execution_count": 78,
   "metadata": {
    "collapsed": false,
    "deletable": true,
    "editable": true
   },
   "outputs": [
    {
     "data": {
      "text/plain": [
       "['1', '3', '2']"
      ]
     },
     "execution_count": 78,
     "metadata": {},
     "output_type": "execute_result"
    }
   ],
   "source": [
    "mean_volume_in.keys()"
   ]
  },
  {
   "cell_type": "code",
   "execution_count": 83,
   "metadata": {
    "collapsed": false,
    "deletable": true,
    "editable": true
   },
   "outputs": [],
   "source": [
    "## 输出均值\n",
    "## 输出格式：对于每个收费站，输出每一天的同一个时间窗的流量。然后每一天第二个时间窗\n",
    "import pandas as pd\n",
    "\n",
    "tollgate = []\n",
    "time_window=[]\n",
    "direction = []\n",
    "volume = []\n",
    "\n",
    "n_day = 7\n",
    "for tollgate_id in ['1','2','3']:\n",
    "    agv_volume_in = mean_volume_in[tollgate_id]\n",
    "    \n",
    "    ## 上午进入流量\n",
    "    i = 0\n",
    "    for k in [24,25,26,27,28,29]:\n",
    "        start_time = datetime.strptime('2016-10-18 08:00:00',\"%Y-%m-%d %H:%M:%S\")\n",
    "        for day in range(n_day):\n",
    "            starttime = start_time + timedelta(days=day)\n",
    "            tollgate.append(tollgate_id)\n",
    "            time_window.append('\\\"[' + (starttime + timedelta(seconds=1200*i)).strftime(\"%Y-%m-%d %H:%M:%S\")\\\n",
    "                               + \",\" + (starttime + timedelta(seconds=1200*i+1200)).strftime(\"%Y-%m-%d %H:%M:%S\") + ')\\\"')\n",
    "            direction.append(0)\n",
    "            volume.append(agv_volume_in[k])\n",
    "        i+=1\n",
    "    \n",
    "    ## 上午流出流量\n",
    "    if tollgate_id in mean_volume_out.keys():\n",
    "        agv_volume_out = mean_volume_out[tollgate_id]\n",
    "        i = 0\n",
    "        for k in [24,25,26,27,28,29]:\n",
    "            start_time = datetime.strptime('2016-10-18 08:00:00',\"%Y-%m-%d %H:%M:%S\")\n",
    "            for day in range(n_day):\n",
    "                starttime = start_time + timedelta(days=day)\n",
    "                tollgate.append(tollgate_id)\n",
    "                time_window.append('\\\"[' + (starttime + timedelta(seconds=1200*i)).strftime(\"%Y-%m-%d %H:%M:%S\")\\\n",
    "                                   + \",\" + (starttime + timedelta(seconds=1200*i+1200)).strftime(\"%Y-%m-%d %H:%M:%S\") + ')\\\"')\n",
    "                direction.append(1)\n",
    "                volume.append(agv_volume_out[k])\n",
    "            i+=1\n",
    "\n",
    " \n",
    "for tollgate_id in ['1','2','3']:\n",
    "    agv_volume_in = mean_volume_in[tollgate_id]\n",
    "    \n",
    "    ## 下午进入流量\n",
    "    i = 0\n",
    "    for k in [51,52,53,54,55,56]:\n",
    "        start_time = datetime.strptime('2016-10-18 17:00:00',\"%Y-%m-%d %H:%M:%S\")\n",
    "        for day in range(n_day):\n",
    "            starttime = start_time + timedelta(days=day)\n",
    "            tollgate.append(tollgate_id)\n",
    "            time_window.append('\\\"[' + (starttime + timedelta(seconds=1200*i)).strftime(\"%Y-%m-%d %H:%M:%S\")\\\n",
    "                               + \",\" + (starttime + timedelta(seconds=1200*i+1200)).strftime(\"%Y-%m-%d %H:%M:%S\") + ')\\\"')\n",
    "            direction.append(0)\n",
    "            volume.append(agv_volume_in[k])\n",
    "        i+=1\n",
    "    \n",
    "    ## 下午流出流量\n",
    "    if tollgate_id in mean_volume_out.keys():\n",
    "        agv_volume_out = mean_volume_out[tollgate_id]\n",
    "        i = 0\n",
    "        for k in [51,52,53,54,55,56]:\n",
    "            start_time = datetime.strptime('2016-10-18 17:00:00',\"%Y-%m-%d %H:%M:%S\")\n",
    "            for day in range(n_day):\n",
    "                starttime = start_time + timedelta(days=day)\n",
    "                tollgate.append(tollgate_id)\n",
    "                time_window.append('\\\"[' + (starttime + timedelta(seconds=1200*i)).strftime(\"%Y-%m-%d %H:%M:%S\")\\\n",
    "                                   + \",\" + (starttime + timedelta(seconds=1200*i+1200)).strftime(\"%Y-%m-%d %H:%M:%S\") + ')\\\"')\n",
    "                direction.append(1)\n",
    "                volume.append(agv_volume_out[k])\n",
    "            i+=1\n",
    "\n",
    "d = {\"tollgate_id\":tollgate,\"time_window\":time_window,\"direction\":direction,\"volume\":volume}\n",
    "pd = DataFrame(data=d)\n",
    "pd.to_csv('volume.csv',index=False,columns=[\"tollgate_id\",\"time_window\",\"direction\",\"volume\"])"
   ]
  }
 ],
 "metadata": {
  "anaconda-cloud": {},
  "kernelspec": {
   "display_name": "Python [default]",
   "language": "python",
   "name": "python2"
  },
  "language_info": {
   "codemirror_mode": {
    "name": "ipython",
    "version": 2
   },
   "file_extension": ".py",
   "mimetype": "text/x-python",
   "name": "python",
   "nbconvert_exporter": "python",
   "pygments_lexer": "ipython2",
   "version": "2.7.12"
  }
 },
 "nbformat": 4,
 "nbformat_minor": 2
}
