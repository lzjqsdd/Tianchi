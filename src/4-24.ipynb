{
 "cells": [
  {
   "cell_type": "code",
   "execution_count": 98,
   "metadata": {
    "collapsed": true
   },
   "outputs": [],
   "source": [
    "import pandas as pd\n",
    "import numpy as np\n",
    "from datetime import datetime\n",
    "from datetime import timedelta\n",
    "\n",
    "df = pd.read_csv('../dataSets/training/training_20min_avg_travel_time.csv')\n",
    "trajectories_train = {}\n",
    "start_time  = datetime.strptime(\"2016-07-19 00:00:00\",'%Y-%m-%d %H:%M:%S')\n",
    "\n",
    "for idx in range(df.shape[0]):\n",
    "    line = df.iloc[idx]\n",
    "    route = str(line['intersection_id']+str(line['tollgate_id']))\n",
    "    stime = datetime.strptime(line['time_window'][1:20],'%Y-%m-%d %H:%M:%S')\n",
    "    day = (stime - start_time).days\n",
    "    tw_n = (stime.hour * 60 + stime.minute)/20\n",
    "    \n",
    "    if route not in trajectories_train.keys():\n",
    "        trajectories_train[route] = np.zeros(72*91).reshape(91,72)\n",
    "    trajectories_train[route][day][tw_n] = line['avg_travel_time']"
   ]
  },
  {
   "cell_type": "code",
   "execution_count": 99,
   "metadata": {
    "collapsed": true
   },
   "outputs": [],
   "source": [
    "def TrueFalseListCombine(TFlist1,TFlist2):\n",
    "    return [l1 and l2 for l1,l2 in zip(TFlist1,TFlist2)]"
   ]
  },
  {
   "cell_type": "code",
   "execution_count": null,
   "metadata": {
    "collapsed": true
   },
   "outputs": [],
   "source": []
  },
  {
   "cell_type": "code",
   "execution_count": 100,
   "metadata": {
    "collapsed": false
   },
   "outputs": [],
   "source": [
    "def get_history_mean(route,twn,time):\n",
    "    #time=datetime.strptime(date,'%Y-%m-%d %H:%M:%S')\n",
    "    startday=(time-start_time).days\n",
    "    \n",
    "    history_data=[]\n",
    "    while(startday>-1):\n",
    "        if(startday<90):\n",
    "            cur_data=trajectories_train[route][startday][twn]\n",
    "            history_data.append(cur_data)\n",
    "        startday-=7\n",
    "    \n",
    "    #for i in range(len(history_data)):\n",
    "    #    print history_data[i]\n",
    "    \n",
    "    max_value=np.max(history_data)\n",
    "    min_value=np.min(history_data)\n",
    "    sum=0.0\n",
    "    n=0.0\n",
    "    for i in range(len(history_data)):\n",
    "        if history_data[i]>min_value and history_data[i]<max_value:\n",
    "            sum+=history_data[i]\n",
    "            n+=1.0\n",
    "            \n",
    "    #mean_result = sum/n\n",
    "    #sum_e = 0.0\n",
    "    #for i in range(len(history_data)):\n",
    "    #    if history_data[i]>min_value and history_data[i]<max_value:\n",
    "    #         sum_e += abs((history_data[i]- mean_result)/history_data[i])\n",
    "    #print \"error:\",sum_e/n\n",
    "    result = 0\n",
    "    if n != 0:\n",
    "        result = sum/n\n",
    "    return result"
   ]
  },
  {
   "cell_type": "code",
   "execution_count": 101,
   "metadata": {
    "collapsed": false
   },
   "outputs": [],
   "source": [
    "#get_history_mean(\"A3\",54,\"2016-10-19 00:00:00\")"
   ]
  },
  {
   "cell_type": "code",
   "execution_count": 102,
   "metadata": {
    "collapsed": false
   },
   "outputs": [],
   "source": [
    "pstart_time=datetime.strptime(\"2016-10-18 00:00:00\",'%Y-%m-%d %H:%M:%S')\n",
    "\n",
    "\n",
    "y_tw_list = [24,25,26,27,28,29,51,52,53,54,55,56]\n",
    "#y_tw_list = [18,19,20,21,22,23,45,46,47,48,49,50]\n",
    "test_data = {}\n",
    "for route in trajectories_train.keys():\n",
    "    for twn in y_tw_list:\n",
    "        for day in range(7):\n",
    "            if route not in test_data.keys():\n",
    "                test_data[route] = np.zeros(7*72).reshape(7,72)\n",
    "            test_data[route][day][twn] = get_history_mean(route,twn,pstart_time+timedelta(days=day))"
   ]
  },
  {
   "cell_type": "code",
   "execution_count": 103,
   "metadata": {
    "collapsed": true
   },
   "outputs": [],
   "source": [
    "def out_data(test_data):\n",
    "    out_data = test_data;\n",
    "    ## 数据输出\n",
    "    from datetime import datetime\n",
    "    from datetime import timedelta\n",
    "    from pandas import DataFrame\n",
    "\n",
    "\n",
    "    intersection = []\n",
    "    tollgate = []\n",
    "    time_window = []\n",
    "    avg_time = []\n",
    "    routes = ['A2','A3',\"B1\",\"B3\",\"C1\",\"C3\"]\n",
    "    for route in routes:\n",
    "        n_day = 7\n",
    "        start_time = datetime.strptime('2016-10-18 08:00:00',\"%Y-%m-%d %H:%M:%S\")\n",
    "        for day in range(n_day):\n",
    "            starttime = start_time + timedelta(days=day)\n",
    "            i = 0\n",
    "            for k in range(24,30): #(51,57)（24，30）\n",
    "                time_window.append('\\\"[' + (starttime + timedelta(seconds=1200*i)).strftime(\"%Y-%m-%d %H:%M:%S\")\\\n",
    "                                   + \",\" + (starttime + timedelta(seconds=1200*i+1200)).strftime(\"%Y-%m-%d %H:%M:%S\") + ')\\\"')\n",
    "                intersection.append(str(route[0]))\n",
    "                tollgate.append(str(route[1]))\n",
    "                avg_time.append(out_data[route][day][k])\n",
    "                i+=1\n",
    "\n",
    "    for route in routes:\n",
    "        n_day = 7\n",
    "        start_time = datetime.strptime('2016-10-18 17:00:00',\"%Y-%m-%d %H:%M:%S\")\n",
    "        for day in range(n_day):\n",
    "            starttime = start_time + timedelta(days=day)\n",
    "            i = 0\n",
    "            for k in range(51,57): #(51,57)（24，30）\n",
    "                time_window.append('\\\"[' + (starttime + timedelta(seconds=1200*i)).strftime(\"%Y-%m-%d %H:%M:%S\")\\\n",
    "                                   + \",\" + (starttime + timedelta(seconds=1200*i+1200)).strftime(\"%Y-%m-%d %H:%M:%S\") + ')\\\"')\n",
    "                intersection.append(str(route[0]))\n",
    "                tollgate.append(str(route[1]))\n",
    "                avg_time.append(out_data[route][day][k])\n",
    "                i+=1            \n",
    "\n",
    "    d = {\"intersection_id\":intersection,\"tollgate_id\":tollgate,\"time_window\":time_window,\"avg_travel_time\":avg_time}\n",
    "    pd = DataFrame(data=d)\n",
    "    pd.to_csv('out.csv',index=False,columns=[\"intersection_id\",\"tollgate_id\",\"time_window\",\"avg_travel_time\"])"
   ]
  },
  {
   "cell_type": "code",
   "execution_count": 104,
   "metadata": {
    "collapsed": true
   },
   "outputs": [],
   "source": [
    "out_data(test_data)"
   ]
  },
  {
   "cell_type": "code",
   "execution_count": 105,
   "metadata": {
    "collapsed": false
   },
   "outputs": [],
   "source": [
    "df_test=pd.read_csv('../dataSets/testing_phase1/trajectories_20min_avg_travel_time.csv')\n",
    "trajectories_test = {}\n",
    "start_time  = datetime.strptime(\"2016-10-18 00:00:00\",'%Y-%m-%d %H:%M:%S')\n",
    "\n",
    "for idx in range(df_test.shape[0]):\n",
    "    line = df_test.iloc[idx]\n",
    "    route = str(line['intersection_id']+str(line['tollgate_id']))\n",
    "    stime = datetime.strptime(line['time_window'][1:20],'%Y-%m-%d %H:%M:%S')\n",
    "    day = (stime - start_time).days\n",
    "    tw_n = (stime.hour * 60 + stime.minute)/20\n",
    "    \n",
    "    if route not in trajectories_test.keys():\n",
    "        trajectories_test[route] = np.zeros(72*7).reshape(7,72)\n",
    "    trajectories_test[route][day][tw_n] = line['avg_travel_time']"
   ]
  },
  {
   "cell_type": "code",
   "execution_count": 106,
   "metadata": {
    "collapsed": false
   },
   "outputs": [
    {
     "name": "stdout",
     "output_type": "stream",
     "text": [
      "1.0\n"
     ]
    }
   ],
   "source": [
    "x = trajectories_test['A2'][:,21]\n",
    "p = test_data['A2'][:,21]\n",
    "e = np.mean(np.abs((x-p)/x))\n",
    "print e"
   ]
  },
  {
   "cell_type": "code",
   "execution_count": 107,
   "metadata": {
    "collapsed": false
   },
   "outputs": [
    {
     "name": "stdout",
     "output_type": "stream",
     "text": [
      "1.0\n"
     ]
    }
   ],
   "source": [
    "tw = [18,19,20,21,22,23,45,46,47,48,49,50]\n",
    "p = test_data\n",
    "x = trajectories_test\n",
    "\n",
    "sum = 0.0\n",
    "n = 0.0\n",
    "\n",
    "for route in trajectories_test.keys():\n",
    "    for tw_n in tw:\n",
    "        for day in range(7):\n",
    "            if x[route][day][tw_n] != 0:\n",
    "                xxx = x[route][day][tw_n]\n",
    "                sum += np.abs((xxx - p[route][day][tw_n])/xxx)\n",
    "                n += 1\n",
    "e = sum / n\n",
    "print e"
   ]
  },
  {
   "cell_type": "code",
   "execution_count": 108,
   "metadata": {
    "collapsed": false
   },
   "outputs": [
    {
     "ename": "IndentationError",
     "evalue": "expected an indented block (<ipython-input-108-40a0c35d7b83>, line 3)",
     "output_type": "error",
     "traceback": [
      "\u001b[0;36m  File \u001b[0;32m\"<ipython-input-108-40a0c35d7b83>\"\u001b[0;36m, line \u001b[0;32m3\u001b[0m\n\u001b[0;31m    \u001b[0m\n\u001b[0m    ^\u001b[0m\n\u001b[0;31mIndentationError\u001b[0m\u001b[0;31m:\u001b[0m expected an indented block\n"
     ]
    }
   ],
   "source": [
    "sum = 0\n",
    "for route in trajectories_train.keys():\n",
    "    "
   ]
  }
 ],
 "metadata": {
  "anaconda-cloud": {},
  "kernelspec": {
   "display_name": "Python [conda root]",
   "language": "python",
   "name": "conda-root-py"
  },
  "language_info": {
   "codemirror_mode": {
    "name": "ipython",
    "version": 2
   },
   "file_extension": ".py",
   "mimetype": "text/x-python",
   "name": "python",
   "nbconvert_exporter": "python",
   "pygments_lexer": "ipython2",
   "version": "2.7.12"
  }
 },
 "nbformat": 4,
 "nbformat_minor": 2
}
