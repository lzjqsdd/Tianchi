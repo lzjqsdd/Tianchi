{
 "cells": [
  {
   "cell_type": "code",
   "execution_count": 12,
   "metadata": {
    "collapsed": true
   },
   "outputs": [],
   "source": [
    "import pandas as pd\n",
    "import numpy as np\n",
    "from datetime import timedelta\n",
    "from datetime import datetime\n",
    "import matplotlib.pyplot as plt\n",
    "\n",
    "trajectories = {} ##加载的每个路线的平均运行时间数据\n",
    "volume = {} "
   ]
  },
  {
   "cell_type": "code",
   "execution_count": 13,
   "metadata": {
    "collapsed": false
   },
   "outputs": [],
   "source": [
    "def LoadData():\n",
    "    df = pd.read_csv('../dataSets/training/training_20min_avg_travel_time.csv')\n",
    "    start_time  = datetime.strptime(\"2016-07-19 00:00:00\",'%Y-%m-%d %H:%M:%S')\n",
    "\n",
    "    for idx in range(df.shape[0]):\n",
    "        line = df.iloc[idx]\n",
    "        route = str(line['intersection_id']+str(line['tollgate_id']))\n",
    "        stime = datetime.strptime(line['time_window'][1:20],'%Y-%m-%d %H:%M:%S')\n",
    "        day = (stime - start_time).days\n",
    "        tw_n = (stime.hour * 60 + stime.minute)/20\n",
    "\n",
    "        if route not in trajectories.keys():\n",
    "            trajectories[route] = np.zeros(72*91).reshape(91,72)\n",
    "        trajectories[route][day][tw_n] = line['avg_travel_time']"
   ]
  },
  {
   "cell_type": "code",
   "execution_count": 23,
   "metadata": {
    "collapsed": true
   },
   "outputs": [],
   "source": [
    "def TrueFalseListCombine(TFlist1,TFlist2):\n",
    "    return [l1 and l2 for l1,l2 in zip(TFlist1,TFlist2)]\n",
    " "
   ]
  },
  {
   "cell_type": "code",
   "execution_count": 17,
   "metadata": {
    "collapsed": true
   },
   "outputs": [],
   "source": [
    "def ExceptionOutlier(data_list):\n",
    "    '''\n",
    "    shape(m,n),n timewindows,m days\n",
    "    根据所给数据data_list中的时间窗的平均值和标准差来去除异常\n",
    "    '''\n",
    "    Mean = pd.DataFrame([np.mean(i) for i in data_list])\n",
    "    mean_low = Mean > Mean.quantile(0.1)\n",
    "    mean_up = Mean < Mean.quantile(0.9)\n",
    "    TF = TrueFalseListCombine(mean_low.values,mean_up.values)\n",
    "    mean_index = Mean[TF].index.values\n",
    "    \n",
    "    Std = pd.DataFrame([np.std(i) for i in data_list])\n",
    "    std_low = Std > Std.quantile(0.1)\n",
    "    std_up = Std < Std.quantile(0.9)\n",
    "    TF = TrueFalseListCombine(std_low.values,std_up.values)\n",
    "    std_index = Std[TF].index.values\n",
    "    \n",
    "    valid_index = list(set(mean_index)&set(std_index))\n",
    "    \n",
    "    return valid_index # i means minues i+1 day\n",
    "    "
   ]
  },
  {
   "cell_type": "code",
   "execution_count": 18,
   "metadata": {
    "collapsed": true
   },
   "outputs": [],
   "source": [
    "data_list = trajectories['A2'][:,0:24]"
   ]
  },
  {
   "cell_type": "code",
   "execution_count": 24,
   "metadata": {
    "collapsed": false
   },
   "outputs": [],
   "source": [
    "idx = ExceptionOutlier(data_list)"
   ]
  },
  {
   "cell_type": "code",
   "execution_count": 27,
   "metadata": {
    "collapsed": false
   },
   "outputs": [],
   "source": [
    "origin_data = pd.DataFrame(data_list)\n",
    "new_data = pd.DataFrame(data_list[idx])"
   ]
  },
  {
   "cell_type": "code",
   "execution_count": null,
   "metadata": {
    "collapsed": true
   },
   "outputs": [],
   "source": [
    "origin_data.plot(legend=None)"
   ]
  }
 ],
 "metadata": {
  "anaconda-cloud": {},
  "kernelspec": {
   "display_name": "Python [conda root]",
   "language": "python",
   "name": "conda-root-py"
  },
  "language_info": {
   "codemirror_mode": {
    "name": "ipython",
    "version": 2
   },
   "file_extension": ".py",
   "mimetype": "text/x-python",
   "name": "python",
   "nbconvert_exporter": "python",
   "pygments_lexer": "ipython2",
   "version": "2.7.12"
  }
 },
 "nbformat": 4,
 "nbformat_minor": 1
}
