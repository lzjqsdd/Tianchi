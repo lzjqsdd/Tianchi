{
 "cells": [
  {
   "cell_type": "markdown",
   "metadata": {},
   "source": [
    "## (1)定义加载训练数据函数"
   ]
  },
  {
   "cell_type": "code",
   "execution_count": 175,
   "metadata": {
    "collapsed": true
   },
   "outputs": [],
   "source": [
    "def load_train_data():\n",
    "    import pandas as pd\n",
    "    import numpy as np\n",
    "    from datetime import datetime\n",
    "    from datetime import timedelta\n",
    "\n",
    "    df = pd.read_csv('../../dataSets/training/training_20min_avg_travel_time.csv')\n",
    "    trajectories_train = {}\n",
    "    start_time  = datetime.strptime(\"2016-07-19 00:00:00\",'%Y-%m-%d %H:%M:%S')\n",
    "\n",
    "    for idx in range(df.shape[0]):\n",
    "        line = df.iloc[idx]\n",
    "        route = str(line['intersection_id']+str(line['tollgate_id']))\n",
    "        stime = datetime.strptime(line['time_window'][1:20],'%Y-%m-%d %H:%M:%S')\n",
    "        day = (stime - start_time).days\n",
    "        tw_n = (stime.hour * 60 + stime.minute)/20\n",
    "\n",
    "        if route not in trajectories_train.keys():\n",
    "            trajectories_train[route] = np.zeros(72*91).reshape(91,72)\n",
    "        trajectories_train[route][day][tw_n] = line['avg_travel_time']"
   ]
  },
  {
   "cell_type": "markdown",
   "metadata": {},
   "source": [
    "## (2-1-1)定义单个的均值函数"
   ]
  },
  {
   "cell_type": "code",
   "execution_count": 176,
   "metadata": {
    "collapsed": false
   },
   "outputs": [],
   "source": [
    "#input:route路twn时间窗time时间\n",
    "#output:time往前星期相同的平均值~~\n",
    "def get_history_mean(route,twn,time):\n",
    "    #time=datetime.strptime(date,'%Y-%m-%d %H:%M:%S')\n",
    "    start_time  = datetime.strptime(\"2016-07-19 00:00:00\",'%Y-%m-%d %H:%M:%S')\n",
    "    startday=(time-start_time).days\n",
    "    #print startday\n",
    "    ##筛选出同期的历史数据\n",
    "    history_data=[]\n",
    "    while(startday>-1):\n",
    "        if(startday<90):\n",
    "            cur_data=trajectories_train[route][startday][twn]\n",
    "            history_data.append(cur_data)\n",
    "        startday-=7\n",
    "\n",
    "    max_value = np.max(history_data)\n",
    "    min_value = np.min(history_data)\n",
    "    final_x = []\n",
    "    for i in range(len(history_data)):\n",
    "        if history_data[i]>min_value and history_data[i]<max_value:\n",
    "            final_x.append(history_data[i])\n",
    "    final_x = np.array(final_x)\n",
    "    if np.sum(final_x) == 0:\n",
    "        return 0\n",
    "    else:\n",
    "        return np.average(final_x,weights=range(1,final_x.shape[0]+1))\n",
    "    #return np.average(final_x)"
   ]
  },
  {
   "cell_type": "markdown",
   "metadata": {},
   "source": [
    "## (2-1-2)定义均值预测函数"
   ]
  },
  {
   "cell_type": "code",
   "execution_count": 172,
   "metadata": {
    "collapsed": false
   },
   "outputs": [],
   "source": [
    "def predict_mean():\n",
    "    pstart_time=datetime.strptime(\"2016-10-18 00:00:00\",'%Y-%m-%d %H:%M:%S')\n",
    "    #y_tw_list = [24,25,26,27,28,29,51,52,53,54,55,56]\n",
    "    y_tw_list = [18,19,20,21,22,23,45,46,47,48,49,50]\n",
    "    test_data = {}\n",
    "    for route in trajectories_train.keys():\n",
    "        for twn in y_tw_list:\n",
    "            for day in range(7):\n",
    "                if route not in test_data.keys():\n",
    "                    test_data[route] = np.zeros(7*72).reshape(7,72)\n",
    "                test_data[route][day][twn] = get_history_mean(route,twn,pstart_time+timedelta(days=day))\n",
    "    return test_data"
   ]
  },
  {
   "cell_type": "markdown",
   "metadata": {},
   "source": [
    "## (2-2-1)定义单个的LASSO训练函数"
   ]
  },
  {
   "cell_type": "code",
   "execution_count": 169,
   "metadata": {
    "collapsed": true
   },
   "outputs": [],
   "source": [
    "def LASSO(route,twn,time):\n",
    "    start_time  = datetime.strptime(\"2016-07-19 00:00:00\",'%Y-%m-%d %H:%M:%S')\n",
    "    startday=(time-start_time).days\n",
    "    #print startday\n",
    "    ##筛选出同期的历史数据\n",
    "    history_data=[]\n",
    "    while(startday>-1):\n",
    "        if(startday<90):\n",
    "            cur_data=trajectories_train[route][startday][twn-6:twn+1]\n",
    "            history_data.append(cur_data)\n",
    "        startday-=7\n",
    "    max_value = np.max(history_data)\n",
    "    min_value = np.min(history_data)\n",
    "    final_x = []\n",
    "    for i in range(len(history_data)):\n",
    "        if history_data[i][6]>min_value and history_data[i][6]<max_value:\n",
    "            if 0 not in history_data[i]:\n",
    "                final_x.append(history_data[i])\n",
    "    final_x = np.array(final_x)\n",
    "    #import matplotlib.pyplot as plt\n",
    "    #plt.plot(final_x.T)\n",
    "    #plt.show()\n",
    "    #print final_x\n",
    "    from sklearn import linear_model\n",
    "    clf = linear_model.Lasso(alpha=0.1)\n",
    "    clf.fit(final_x[:,0:6],final_x[:,6])\n",
    "    return clf"
   ]
  },
  {
   "cell_type": "code",
   "execution_count": 170,
   "metadata": {
    "collapsed": true
   },
   "outputs": [],
   "source": [
    "def get_lasso(test_data,route,twn,time):\n",
    "    clf = LASSO(route,twn,time)\n",
    "    return clf.predict(test_data[route][day][twn-6:twn+1])"
   ]
  },
  {
   "cell_type": "markdown",
   "metadata": {},
   "source": [
    "## (3)加载测试数据"
   ]
  },
  {
   "cell_type": "code",
   "execution_count": 177,
   "metadata": {
    "collapsed": true
   },
   "outputs": [],
   "source": [
    "##加载测试数据前6窗数据\n",
    "def load_test_data():\n",
    "    df_test=pd.read_csv('../../dataSets/testing_phase1/trajectories_20min_avg_travel_time.csv')\n",
    "    trajectories_test = {}\n",
    "    start_time  = datetime.strptime(\"2016-10-18 00:00:00\",'%Y-%m-%d %H:%M:%S')\n",
    "\n",
    "    for idx in range(df_test.shape[0]):\n",
    "        line = df_test.iloc[idx]\n",
    "        route = str(line['intersection_id']+str(line['tollgate_id']))\n",
    "        stime = datetime.strptime(line['time_window'][1:20],'%Y-%m-%d %H:%M:%S')\n",
    "        day = (stime - start_time).days\n",
    "        tw_n = (stime.hour * 60 + stime.minute)/20\n",
    "\n",
    "        if route not in trajectories_test.keys():\n",
    "            trajectories_test[route] = np.zeros(72*7).reshape(7,72)\n",
    "        trajectories_test[route][day][tw_n] = line['avg_travel_time']\n",
    "    return trajectories_test"
   ]
  },
  {
   "cell_type": "markdown",
   "metadata": {},
   "source": [
    "## 整合测试数据与均值数据"
   ]
  },
  {
   "cell_type": "code",
   "execution_count": null,
   "metadata": {
    "collapsed": true
   },
   "outputs": [],
   "source": [
    "def predict_lasso():\n",
    "    '''\n",
    "    加载数据，前6个窗来自于加载的测试数据，后六个窗来自于均值数据\n",
    "    输出：Lasso预测的结果\n",
    "    '''\n",
    "    data1 = load_test_data()\n",
    "    data2 = predict_mean()\n",
    "    data = {}\n",
    "    for route in data1.keys():\n",
    "        data[route] = data1[route]+data2[route] ##整合后的数据供Lasso预测使用\n",
    "    \n",
    "    pstart_time=datetime.strptime(\"2016-10-18 00:00:00\",'%Y-%m-%d %H:%M:%S')\n",
    "    y_tw_list = [24,25,26,27,28,29,51,52,53,54,55,56]\n",
    "    #y_tw_list = [18,19,20,21,22,23,45,46,47,48,49,50]\n",
    "    pred_data = {}\n",
    "    for route in data.keys():\n",
    "        for twn in y_tw_list:\n",
    "            for day in range(7):\n",
    "                if route not in pred_data.keys():\n",
    "                    pred_data[route] = np.zeros(7*72).reshape(7,72)\n",
    "                pred_data[route][day][twn] = get_lasso(data,route,twn,pstart_time+timedelta(days=day))\n",
    "    return pred_data"
   ]
  },
  {
   "cell_type": "markdown",
   "metadata": {},
   "source": [
    "## (4)训练过程"
   ]
  },
  {
   "cell_type": "markdown",
   "metadata": {},
   "source": [
    "## (5)结果输出"
   ]
  },
  {
   "cell_type": "code",
   "execution_count": 111,
   "metadata": {
    "collapsed": true
   },
   "outputs": [],
   "source": [
    "def out_data(test_data):\n",
    "    out_data = test_data;\n",
    "    ## 数据输出\n",
    "    from datetime import datetime\n",
    "    from datetime import timedelta\n",
    "    from pandas import DataFrame\n",
    "\n",
    "\n",
    "    intersection = []\n",
    "    tollgate = []\n",
    "    time_window = []\n",
    "    avg_time = []\n",
    "    routes = ['A2','A3',\"B1\",\"B3\",\"C1\",\"C3\"]\n",
    "    for route in routes:\n",
    "        n_day = 7\n",
    "        start_time = datetime.strptime('2016-10-18 08:00:00',\"%Y-%m-%d %H:%M:%S\")\n",
    "        for day in range(n_day):\n",
    "            starttime = start_time + timedelta(days=day)\n",
    "            i = 0\n",
    "            for k in range(24,30): #(51,57)（24，30）\n",
    "                time_window.append('\\\"[' + (starttime + timedelta(seconds=1200*i)).strftime(\"%Y-%m-%d %H:%M:%S\")\\\n",
    "                                   + \",\" + (starttime + timedelta(seconds=1200*i+1200)).strftime(\"%Y-%m-%d %H:%M:%S\") + ')\\\"')\n",
    "                intersection.append(str(route[0]))\n",
    "                tollgate.append(str(route[1]))\n",
    "                avg_time.append(out_data[route][day][k])\n",
    "                i+=1\n",
    "\n",
    "    for route in routes:\n",
    "        n_day = 7\n",
    "        start_time = datetime.strptime('2016-10-18 17:00:00',\"%Y-%m-%d %H:%M:%S\")\n",
    "        for day in range(n_day):\n",
    "            starttime = start_time + timedelta(days=day)\n",
    "            i = 0\n",
    "            for k in range(51,57): #(51,57)（24，30）\n",
    "                time_window.append('\\\"[' + (starttime + timedelta(seconds=1200*i)).strftime(\"%Y-%m-%d %H:%M:%S\")\\\n",
    "                                   + \",\" + (starttime + timedelta(seconds=1200*i+1200)).strftime(\"%Y-%m-%d %H:%M:%S\") + ')\\\"')\n",
    "                intersection.append(str(route[0]))\n",
    "                tollgate.append(str(route[1]))\n",
    "                avg_time.append(out_data[route][day][k])\n",
    "                i+=1            \n",
    "\n",
    "    d = {\"intersection_id\":intersection,\"tollgate_id\":tollgate,\"time_window\":time_window,\"avg_travel_time\":avg_time}\n",
    "    pd = DataFrame(data=d)\n",
    "    pd.to_csv('out.csv',index=False,columns=[\"intersection_id\",\"tollgate_id\",\"time_window\",\"avg_travel_time\"])"
   ]
  },
  {
   "cell_type": "code",
   "execution_count": 112,
   "metadata": {
    "collapsed": true
   },
   "outputs": [],
   "source": [
    "out_data(test_data)"
   ]
  },
  {
   "cell_type": "markdown",
   "metadata": {},
   "source": [
    "## (6)误差分析"
   ]
  },
  {
   "cell_type": "code",
   "execution_count": 114,
   "metadata": {
    "collapsed": false
   },
   "outputs": [
    {
     "name": "stdout",
     "output_type": "stream",
     "text": [
      "0.200798247303\n"
     ]
    }
   ],
   "source": [
    "tw = [18,19,20,21,22,23,45,46,47,48,49,50]\n",
    "p = test_data\n",
    "x = trajectories_test\n",
    "\n",
    "sum = 0.0\n",
    "n = 0.0\n",
    "\n",
    "for route in trajectories_test.keys():\n",
    "    for tw_n in tw:\n",
    "        for day in range(7):\n",
    "            if x[route][day][tw_n] != 0:\n",
    "                xxx = x[route][day][tw_n]\n",
    "                sum += np.abs((xxx - p[route][day][tw_n])/xxx)\n",
    "                n += 1\n",
    "e = sum / n\n",
    "print e"
   ]
  }
 ],
 "metadata": {
  "anaconda-cloud": {},
  "kernelspec": {
   "display_name": "Python 2",
   "language": "python",
   "name": "python2"
  },
  "language_info": {
   "codemirror_mode": {
    "name": "ipython",
    "version": 2
   },
   "file_extension": ".py",
   "mimetype": "text/x-python",
   "name": "python",
   "nbconvert_exporter": "python",
   "pygments_lexer": "ipython2",
   "version": "2.7.13"
  }
 },
 "nbformat": 4,
 "nbformat_minor": 2
}
