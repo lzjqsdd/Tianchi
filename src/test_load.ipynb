{
 "cells": [
  {
   "cell_type": "code",
   "execution_count": 24,
   "metadata": {
    "collapsed": false
   },
   "outputs": [],
   "source": [
    "import pandas as pd\n",
    "import numpy as np\n",
    "from datetime import datetime\n",
    "from datetime import timedelta\n",
    "df = pd.read_csv('../dataSets/training/training_20min_avg_travel_time.csv')\n",
    "\n",
    "\n",
    "trajectories = {}\n",
    "start_time  = datetime.strptime(\"2016-07-19 00:00:00\",'%Y-%m-%d %H:%M:%S')\n",
    "\n",
    "for idx in range(df.shape[0]):\n",
    "    line = df.iloc[idx]\n",
    "    \n",
    "    route = str(line['intersection_id']+str(line['tollgate_id']))\n",
    "    stime = datetime.strptime(line['time_window'][1:20],'%Y-%m-%d %H:%M:%S')\n",
    "    day = (stime - start_time).days\n",
    "    tw_n = (stime.hour * 60 + stime.minute)/20\n",
    "    \n",
    "    if route not in trajectories.keys():\n",
    "        trajectories[route] = np.zeros(72*91).reshape(91,72)\n",
    "    trajectories[route][day][tw_n] = line['avg_travel_time']"
   ]
  },
  {
   "cell_type": "code",
   "execution_count": 26,
   "metadata": {
    "collapsed": false
   },
   "outputs": [
    {
     "data": {
      "text/plain": [
       "array([[   0.  ,    0.  ,  113.54, ...,    0.  ,  285.82,    0.  ],\n",
       "       [   0.  ,    0.  ,    0.  , ...,    0.  ,    0.  ,    0.  ],\n",
       "       [   0.  ,  160.84,    0.  , ...,  140.79,    0.  ,    0.  ],\n",
       "       ..., \n",
       "       [ 116.4 ,    0.  ,    0.  , ...,    0.  ,  127.32,    0.  ],\n",
       "       [ 176.72,    0.  ,    0.  , ...,  261.92,    0.  ,    0.  ],\n",
       "       [   0.  ,  184.64,    0.  , ...,    0.  ,    0.  ,    0.  ]])"
      ]
     },
     "execution_count": 26,
     "metadata": {},
     "output_type": "execute_result"
    }
   ],
   "source": [
    "trajectories['C3']"
   ]
  },
  {
   "cell_type": "code",
   "execution_count": 23,
   "metadata": {
    "collapsed": false
   },
   "outputs": [
    {
     "data": {
      "text/plain": [
       "{'A2': array([[   0.  ,   58.05,    0.  , ...,   54.59,   84.37,   67.96],\n",
       "        [   0.  ,   37.89,   83.66, ...,   49.75,   55.15,   56.67],\n",
       "        [  39.21,    0.  ,    0.  , ...,   39.15,   64.95,  122.84],\n",
       "        ..., \n",
       "        [  59.6 ,   46.68,   42.41, ...,    0.  ,    0.  ,   59.24],\n",
       "        [  59.43,   45.7 ,   45.34, ...,    0.  ,   42.05,   52.26],\n",
       "        [  59.61,   40.03,    0.  , ...,   50.9 ,   79.21,   42.27]]),\n",
       " 'A3': array([[   0.  ,    0.  ,    0.  , ...,    0.  ,    0.  ,   85.08],\n",
       "        [  81.05,   62.65,    0.  , ...,    0.  ,   98.78,   80.57],\n",
       "        [  82.98,   95.15,    0.  , ...,  156.89,    0.  ,    0.  ],\n",
       "        ..., \n",
       "        [  79.96,    0.  ,   74.16, ...,   92.43,  146.84,   91.96],\n",
       "        [   0.  ,  300.65,   97.71, ...,   98.93,  112.98,   84.51],\n",
       "        [  89.41,   77.48,   89.99, ...,  103.69,  157.23,  113.94]]),\n",
       " 'B1': array([[   0.  ,   79.76,  137.98, ...,    0.  ,    0.  ,    0.  ],\n",
       "        [   0.  ,    0.  ,    0.  , ...,    0.  ,    0.  ,    0.  ],\n",
       "        [   0.  ,    0.  ,    0.  , ...,    0.  ,   68.23,   88.41],\n",
       "        ..., \n",
       "        [   0.  ,    0.  ,  118.9 , ...,    0.  ,  164.11,   88.84],\n",
       "        [   0.  ,   93.32,    0.  , ...,    0.  ,   80.86,    0.  ],\n",
       "        [  95.71,    0.  ,    0.  , ...,    0.  ,   97.54,    0.  ]]),\n",
       " 'B3': array([[  70.85,  148.79,    0.  , ...,   97.07,    0.  ,  121.11],\n",
       "        [   0.  ,    0.  ,    0.  , ...,  137.86,    0.  ,  112.89],\n",
       "        [  85.  ,    0.  ,    0.  , ...,  127.51,   86.59,  142.16],\n",
       "        ..., \n",
       "        [   0.  ,    0.  ,    0.  , ...,    0.  ,  137.85,   94.8 ],\n",
       "        [  71.69,    0.  ,    0.  , ...,    0.  ,    0.  ,   90.29],\n",
       "        [  70.85,  125.27,    0.  , ...,   60.49,  131.68,    0.  ]]),\n",
       " 'C1': array([[   0.  ,    0.  ,    0.  , ...,    0.  ,    0.  ,    0.  ],\n",
       "        [   0.  ,    0.  ,    0.  , ...,  177.96,  167.24,    0.  ],\n",
       "        [   0.  ,    0.  ,    0.  , ...,    0.  ,    0.  ,    0.  ],\n",
       "        ..., \n",
       "        [ 188.08,    0.  ,    0.  , ...,    0.  ,    0.  ,  142.51],\n",
       "        [   0.  ,    0.  ,    0.  , ...,  187.25,    0.  ,    0.  ],\n",
       "        [   0.  ,    0.  ,    0.  , ...,  194.33,  159.78,    0.  ]]),\n",
       " 'C3': array([[ 0.,  0.,  0., ...,  0.,  0.,  0.],\n",
       "        [ 0.,  0.,  0., ...,  0.,  0.,  0.],\n",
       "        [ 0.,  0.,  0., ...,  0.,  0.,  0.],\n",
       "        ..., \n",
       "        [ 0.,  0.,  0., ...,  0.,  0.,  0.],\n",
       "        [ 0.,  0.,  0., ...,  0.,  0.,  0.],\n",
       "        [ 0.,  0.,  0., ...,  0.,  0.,  0.]])}"
      ]
     },
     "execution_count": 23,
     "metadata": {},
     "output_type": "execute_result"
    }
   ],
   "source": [
    "line = df.iloc[0]\n",
    "route = str(line['intersection_id']+str(line['tollgate_id']))\n",
    "stime = datetime.strptime(line['time_window'][1:20],'%Y-%m-%d %H:%M:%S')\n",
    "day = (stime - start_time).days\n",
    "tw_n = (stime.hour * 60 + stime.minute)/20\n",
    "trajectories[route] = np.zeros(72*91).reshape(91,72)"
   ]
  }
 ],
 "metadata": {
  "anaconda-cloud": {},
  "kernelspec": {
   "display_name": "Python [conda root]",
   "language": "python",
   "name": "conda-root-py"
  },
  "language_info": {
   "codemirror_mode": {
    "name": "ipython",
    "version": 2
   },
   "file_extension": ".py",
   "mimetype": "text/x-python",
   "name": "python",
   "nbconvert_exporter": "python",
   "pygments_lexer": "ipython2",
   "version": "2.7.12"
  }
 },
 "nbformat": 4,
 "nbformat_minor": 1
}
