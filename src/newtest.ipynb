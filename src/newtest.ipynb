{
 "cells": [
  {
   "cell_type": "code",
   "execution_count": null,
   "metadata": {
    "collapsed": true
   },
   "outputs": [],
   "source": [
    "import pandas as pd\n",
    "import numpy as np\n",
    "from datetime import datetime\n",
    "from datetime import timedelta\n",
    "\n",
    "df = pd.read_csv('../dataSets/training/training_20min_avg_travel_time.csv')\n",
    "\n",
    "\n",
    "trajectories_train = {}\n",
    "start_time  = datetime.strptime(\"2016-07-19 00:00:00\",'%Y-%m-%d %H:%M:%S')\n",
    "\n",
    "for idx in range(df.shape[0]):\n",
    "    line = df.iloc[idx]\n",
    "    route = str(line['intersection_id']+str(line['tollgate_id']))\n",
    "    stime = datetime.strptime(line['time_window'][1:20],'%Y-%m-%d %H:%M:%S')\n",
    "    day = (stime - start_time).days\n",
    "    tw_n = (stime.hour * 60 + stime.minute)/20\n",
    "    \n",
    "    if route not in trajectories_train.keys():\n",
    "        trajectories_train[route] = np.zeros(72*91).reshape(91,72)\n",
    "    trajectories_train[route][day][tw_n] = line['avg_travel_time']"
   ]
  }
 ],
 "metadata": {
  "anaconda-cloud": {},
  "kernelspec": {
   "display_name": "Python [conda root]",
   "language": "python",
   "name": "conda-root-py"
  },
  "language_info": {
   "codemirror_mode": {
    "name": "ipython",
    "version": 2
   },
   "file_extension": ".py",
   "mimetype": "text/x-python",
   "name": "python",
   "nbconvert_exporter": "python",
   "pygments_lexer": "ipython2",
   "version": "2.7.12"
  }
 },
 "nbformat": 4,
 "nbformat_minor": 1
}
