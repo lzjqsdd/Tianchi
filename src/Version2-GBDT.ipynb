{
 "cells": [
  {
   "cell_type": "markdown",
   "metadata": {
    "collapsed": true
   },
   "source": [
    "# Trajectories"
   ]
  },
  {
   "cell_type": "markdown",
   "metadata": {},
   "source": [
    "## 1. 加载训练数据"
   ]
  },
  {
   "cell_type": "code",
   "execution_count": 36,
   "metadata": {
    "collapsed": false
   },
   "outputs": [],
   "source": [
    "import pandas as pd\n",
    "import numpy as np\n",
    "from datetime import datetime\n",
    "from datetime import timedelta\n",
    "from copy import deepcopy\n",
    "\n",
    "df = pd.read_csv('../dataSets/training/training_20min_avg_travel_time.csv')\n",
    "\n",
    "\n",
    "trajectories_train = {}\n",
    "start_time  = datetime.strptime(\"2016-07-19 00:00:00\",'%Y-%m-%d %H:%M:%S')\n",
    "\n",
    "for idx in range(df.shape[0]):\n",
    "    line = df.iloc[idx]\n",
    "    route = str(line['intersection_id']+str(line['tollgate_id']))\n",
    "    stime = datetime.strptime(line['time_window'][1:20],'%Y-%m-%d %H:%M:%S')\n",
    "    day = (stime - start_time).days\n",
    "    tw_n = (stime.hour * 60 + stime.minute)/20\n",
    "    \n",
    "    if route not in trajectories_train.keys():\n",
    "        trajectories_train[route] = np.zeros(72*91).reshape(91,72)\n",
    "    trajectories_train[route][day][tw_n] = line['avg_travel_time']"
   ]
  },
  {
   "cell_type": "markdown",
   "metadata": {},
   "source": [
    "## 2. 训练数据划分与模型选择"
   ]
  },
  {
   "cell_type": "code",
   "execution_count": 37,
   "metadata": {
    "collapsed": false
   },
   "outputs": [],
   "source": [
    "import numpy as np\n",
    "import matplotlib.pyplot as plt\n",
    "from sklearn import linear_model\n",
    "from sklearn.cross_validation import train_test_split\n",
    "import xgboost as xgb\n",
    "\n",
    "##数据预处理\n",
    "## shuffle\n",
    "## split\n",
    "data = trajectories_train\n",
    "#X_train,X_test,y_train,y_test = train_test_split(data[:,17:23],data[:,24],test_size=0.2,random_state = 33)\n",
    "\n",
    "##对每个路径的每个时间段的学习一个学习器\n",
    "clfs = {};\n",
    "x_tw_list = [np.arange(18,24),np.arange(19,25),np.arange(20,26),np.arange(21,27),np.arange(22,28),np.arange(23,29),\\\n",
    "             np.arange(45,51),np.arange(46,52),np.arange(47,53),np.arange(48,54),np.arange(49,55),np.arange(50,56)]\n",
    "y_tw_list = [24,25,26,27,28,29,51,52,53,54,55,56]\n",
    "\n",
    "for route in data.keys():\n",
    "    for tw_x,tw_y in zip(x_tw_list,y_tw_list):\n",
    "        X = data[route][:,tw_x]\n",
    "        y = data[route][:,tw_y]\n",
    "        clf = xgb.XGBRegressor(max_depth=2,n_estimators=120,learning_rate=0.05).fit(X,y)\n",
    "        if route not in clfs.keys():\n",
    "            clfs[route] = [clf]\n",
    "        else:\n",
    "            clfs[route].append(clf)"
   ]
  },
  {
   "cell_type": "markdown",
   "metadata": {},
   "source": [
    "## 3. 加载测试数据"
   ]
  },
  {
   "cell_type": "code",
   "execution_count": 38,
   "metadata": {
    "collapsed": false
   },
   "outputs": [],
   "source": [
    "## 10.18 - 10.24号\n",
    "df = pd.read_csv('../dataSets/testing_phase1/trajectories_20min_avg_travel_time.csv')\n",
    "trajectories_test = {}\n",
    "start_time  = datetime.strptime(\"2016-10-18 00:00:00\",'%Y-%m-%d %H:%M:%S')\n",
    "\n",
    "for idx in range(df.shape[0]):\n",
    "    line = df.iloc[idx]\n",
    "    route = str(line['intersection_id']+str(line['tollgate_id']))\n",
    "    stime = datetime.strptime(line['time_window'][1:20],'%Y-%m-%d %H:%M:%S')\n",
    "    day = (stime - start_time).days\n",
    "    tw_n = (stime.hour * 60 + stime.minute)/20\n",
    "    \n",
    "    if route not in trajectories_test.keys():\n",
    "        trajectories_test[route] = np.zeros(72*7).reshape(7,72)\n",
    "    trajectories_test[route][day][tw_n] = line['avg_travel_time']"
   ]
  },
  {
   "cell_type": "code",
   "execution_count": 39,
   "metadata": {
    "collapsed": false
   },
   "outputs": [],
   "source": [
    "## 对每个路径的每段进行预测\n",
    "x_tw_list = [np.arange(18,24),np.arange(19,25),np.arange(20,26),np.arange(21,27),np.arange(22,28),np.arange(23,29)\\\n",
    "             ,np.arange(45,51),np.arange(46,52),np.arange(47,53),np.arange(48,54),np.arange(49,55),np.arange(50,56)]\n",
    "y_tw_list = [24,25,26,27,28,29,51,52,53,54,55,56]\n",
    "\n",
    "test_data = trajectories_test\n",
    "for route in test_data.keys():\n",
    "    i = 0\n",
    "    for tw_x,tw_y in zip(x_tw_list,y_tw_list):\n",
    "        test_data[route][:,tw_y] = np.maximum(clfs[route][i].predict(test_data[route][:,tw_x]),np.zeros(7))"
   ]
  },
  {
   "cell_type": "code",
   "execution_count": 40,
   "metadata": {
    "collapsed": false
   },
   "outputs": [],
   "source": [
    "out_data = test_data;\n",
    "## 数据输出\n",
    "from datetime import datetime\n",
    "from datetime import timedelta\n",
    "from pandas import DataFrame\n",
    "\n",
    "\n",
    "intersection = []\n",
    "tollgate = []\n",
    "time_window = []\n",
    "avg_time = []\n",
    "routes = ['A2','A3',\"B1\",\"B3\",\"C1\",\"C3\"]\n",
    "for route in routes:\n",
    "    n_day = 7\n",
    "    start_time = datetime.strptime('2016-10-18 08:00:00',\"%Y-%m-%d %H:%M:%S\")\n",
    "    for day in range(n_day):\n",
    "        starttime = start_time + timedelta(days=day)\n",
    "        i = 0\n",
    "        for k in range(24,30): #(51,57)（24，30）\n",
    "            time_window.append('\\\"[' + (starttime + timedelta(seconds=1200*i)).strftime(\"%Y-%m-%d %H:%M:%S\")\\\n",
    "                               + \",\" + (starttime + timedelta(seconds=1200*i+1200)).strftime(\"%Y-%m-%d %H:%M:%S\") + ')\\\"')\n",
    "            intersection.append(str(route[0]))\n",
    "            tollgate.append(str(route[1]))\n",
    "            avg_time.append(out_data[route][day][k])\n",
    "            i+=1\n",
    "            \n",
    "for route in routes:\n",
    "    n_day = 7\n",
    "    start_time = datetime.strptime('2016-10-18 17:00:00',\"%Y-%m-%d %H:%M:%S\")\n",
    "    for day in range(n_day):\n",
    "        starttime = start_time + timedelta(days=day)\n",
    "        i = 0\n",
    "        for k in range(51,57): #(51,57)（24，30）\n",
    "            time_window.append('\\\"[' + (starttime + timedelta(seconds=1200*i)).strftime(\"%Y-%m-%d %H:%M:%S\")\\\n",
    "                               + \",\" + (starttime + timedelta(seconds=1200*i+1200)).strftime(\"%Y-%m-%d %H:%M:%S\") + ')\\\"')\n",
    "            intersection.append(str(route[0]))\n",
    "            tollgate.append(str(route[1]))\n",
    "            avg_time.append(out_data[route][day][k])\n",
    "            i+=1            \n",
    "            \n",
    "d = {\"intersection_id\":intersection,\"tollgate_id\":tollgate,\"time_window\":time_window,\"avg_travel_time\":avg_time}\n",
    "pd = DataFrame(data=d)\n",
    "pd.to_csv('out.csv',index=False,columns=[\"intersection_id\",\"tollgate_id\",\"time_window\",\"avg_travel_time\"])"
   ]
  },
  {
   "cell_type": "markdown",
   "metadata": {},
   "source": [
    "# Volume"
   ]
  },
  {
   "cell_type": "markdown",
   "metadata": {},
   "source": [
    "## 1. 加载训练数据"
   ]
  },
  {
   "cell_type": "code",
   "execution_count": 41,
   "metadata": {
    "collapsed": false
   },
   "outputs": [],
   "source": [
    "import pandas as pd\n",
    "import numpy as np\n",
    "from datetime import datetime\n",
    "from datetime import timedelta\n",
    "\n",
    "df = pd.read_csv('../dataSets/training/training_20min_avg_volume.csv')\n",
    "\n",
    "\n",
    "volume_in = {}\n",
    "volume_out = {}\n",
    "start_time  = datetime.strptime(\"2016-09-19 00:00:00\",'%Y-%m-%d %H:%M:%S')\n",
    "\n",
    "for idx in range(df.shape[0]):\n",
    "    line = df.iloc[idx]\n",
    "    tollgate = str(line['tollgate_id'])\n",
    "    stime = datetime.strptime(line['time_window'][1:20],'%Y-%m-%d %H:%M:%S')\n",
    "    day = (stime - start_time).days\n",
    "    tw_n = (stime.hour * 60 + stime.minute)/20\n",
    "    \n",
    "    if line['direction'] == 0: ##判断进/出流量\n",
    "        if tollgate not in volume_in.keys():\n",
    "            volume_in[tollgate] = np.zeros(72*29).reshape(29,72)\n",
    "        volume_in[tollgate][day][tw_n] = line['volume']\n",
    "    else:\n",
    "        if tollgate not in volume_out.keys():\n",
    "            volume_out[tollgate] = np.zeros(72*29).reshape(29,72)\n",
    "        volume_out[tollgate][day][tw_n] = line['volume']"
   ]
  },
  {
   "cell_type": "markdown",
   "metadata": {},
   "source": [
    "## 2. 模型"
   ]
  },
  {
   "cell_type": "code",
   "execution_count": 42,
   "metadata": {
    "collapsed": false
   },
   "outputs": [],
   "source": [
    "import numpy as np\n",
    "import matplotlib.pyplot as plt\n",
    "from sklearn import linear_model\n",
    "from sklearn.cross_validation import train_test_split\n",
    "import xgboost as xgb\n",
    "\n",
    "##数据预处理\n",
    "## shuffle\n",
    "## split\n",
    "data_in = volume_in\n",
    "#X_train,X_test,y_train,y_test = train_test_split(data[:,17:23],data[:,24],test_size=0.2,random_state = 33)\n",
    "\n",
    "##对每个路径的每个时间段的学习一个学习器\n",
    "clfs_in = {};\n",
    "x_tw_list = [np.arange(18,24),np.arange(19,25),np.arange(20,26),np.arange(21,27),np.arange(22,28),np.arange(23,29),\\\n",
    "             np.arange(45,51),np.arange(46,52),np.arange(47,53),np.arange(48,54),np.arange(49,55),np.arange(50,56)]\n",
    "y_tw_list = [24,25,26,27,28,29,51,52,53,54,55,56]\n",
    "\n",
    "for route in data_in.keys():\n",
    "    for tw_x,tw_y in zip(x_tw_list,y_tw_list):\n",
    "        X = data_in[route][:,tw_x]\n",
    "        y = data_in[route][:,tw_y]\n",
    "        clf = xgb.XGBRegressor(max_depth=2,n_estimators=120,learning_rate=0.05).fit(X,y)\n",
    "        if route not in clfs_in.keys():\n",
    "            clfs_in[route] = [clf]\n",
    "        else:\n",
    "            clfs_in[route].append(clf)\n"
   ]
  },
  {
   "cell_type": "code",
   "execution_count": 43,
   "metadata": {
    "collapsed": true
   },
   "outputs": [],
   "source": [
    "##数据预处理\n",
    "## shuffle\n",
    "## split\n",
    "data_out = volume_out\n",
    "#X_train,X_test,y_train,y_test = train_test_split(data[:,17:23],data[:,24],test_size=0.2,random_state = 33)\n",
    "\n",
    "##对每个路径的每个时间段的学习一个学习器\n",
    "clfs_out = {};\n",
    "x_tw_list = [np.arange(18,24),np.arange(19,25),np.arange(20,26),np.arange(21,27),np.arange(22,28),np.arange(23,29),\\\n",
    "             np.arange(45,51),np.arange(46,52),np.arange(47,53),np.arange(48,54),np.arange(49,55),np.arange(50,56)]\n",
    "y_tw_list = [24,25,26,27,28,29,51,52,53,54,55,56]\n",
    "\n",
    "for route in data_out.keys():\n",
    "    for tw_x,tw_y in zip(x_tw_list,y_tw_list):\n",
    "        X = data_in[route][:,tw_x]\n",
    "        y = data_in[route][:,tw_y]\n",
    "        clf = xgb.XGBRegressor(max_depth=2,n_estimators=120,learning_rate=0.05).fit(X,y)\n",
    "        if route not in clfs.keys():\n",
    "            clfs_out[route] = [clf]\n",
    "        else:\n",
    "            clfs_out[route].append(clf)"
   ]
  },
  {
   "cell_type": "markdown",
   "metadata": {},
   "source": [
    "## 3.加载测试样本"
   ]
  },
  {
   "cell_type": "code",
   "execution_count": 44,
   "metadata": {
    "collapsed": false
   },
   "outputs": [],
   "source": [
    "import pandas as pd\n",
    "import numpy as np\n",
    "from datetime import datetime\n",
    "from datetime import timedelta\n",
    "\n",
    "df = pd.read_csv('../dataSets/testing_phase1/test1_20min_avg_volume.csv')\n",
    "\n",
    "\n",
    "volume_in_test = {}\n",
    "volume_out_test = {}\n",
    "start_time  = datetime.strptime(\"2016-10-18 00:00:00\",'%Y-%m-%d %H:%M:%S')\n",
    "\n",
    "for idx in range(df.shape[0]):\n",
    "    line = df.iloc[idx]\n",
    "    tollgate = str(line['tollgate_id'])\n",
    "    stime = datetime.strptime(line['time_window'][1:20],'%Y-%m-%d %H:%M:%S')\n",
    "    day = (stime - start_time).days\n",
    "    tw_n = (stime.hour * 60 + stime.minute)/20\n",
    "    \n",
    "    if line['direction'] == 0: ##判断进/出流量\n",
    "        if tollgate not in volume_in_test.keys():\n",
    "            volume_in_test[tollgate] = np.zeros(72*7).reshape(7,72)\n",
    "        volume_in_test[tollgate][day][tw_n] = line['volume']\n",
    "    else:\n",
    "        if tollgate not in volume_out_test.keys():\n",
    "            volume_out_test[tollgate] = np.zeros(72*7).reshape(7,72)\n",
    "        volume_out_test[tollgate][day][tw_n] = line['volume']\n",
    "        #print volume_out_test[tollgate][day][tw_n]"
   ]
  },
  {
   "cell_type": "code",
   "execution_count": 45,
   "metadata": {
    "collapsed": false
   },
   "outputs": [],
   "source": [
    "## 对每个路径的每段进行预测\n",
    "x_tw_list = [np.arange(18,24),np.arange(19,25),np.arange(20,26),np.arange(21,27),np.arange(22,28),np.arange(23,29)\\\n",
    "             ,np.arange(45,51),np.arange(46,52),np.arange(47,53),np.arange(48,54),np.arange(49,55),np.arange(50,56)]\n",
    "y_tw_list = [24,25,26,27,28,29,51,52,53,54,55,56]\n",
    "\n",
    "test_data_in = volume_in_test\n",
    "for route in test_data_in.keys():\n",
    "    i = 0\n",
    "    for tw_x,tw_y in zip(x_tw_list,y_tw_list):\n",
    "        test_data_in[route][:,tw_y] = np.maximum(clfs_in[route][i].predict(test_data_in[route][:,tw_x]),np.zeros(7))\n",
    "        \n",
    "test_data_out = volume_out_test\n",
    "for route in test_data_out.keys():\n",
    "    i = 0\n",
    "    for tw_x,tw_y in zip(x_tw_list,y_tw_list):\n",
    "        test_data_out[route][:,tw_y] = np.maximum(clfs_out[route][i].predict(test_data_out[route][:,tw_x]),np.zeros(7))"
   ]
  },
  {
   "cell_type": "markdown",
   "metadata": {},
   "source": [
    "## 输出"
   ]
  },
  {
   "cell_type": "code",
   "execution_count": 46,
   "metadata": {
    "collapsed": false
   },
   "outputs": [],
   "source": [
    "## 输出均值\n",
    "## 输出格式：对于每个收费站，输出每一天的同一个时间窗的流量。然后每一天第二个时间窗\n",
    "import pandas as pd\n",
    "\n",
    "tollgate = []\n",
    "time_window=[]\n",
    "direction = []\n",
    "volume = []\n",
    "\n",
    "n_day = 7\n",
    "for tollgate_id in ['1','2','3']:\n",
    "    agv_volume_in = test_data_in[tollgate_id]\n",
    "    \n",
    "    ## 上午进入流量\n",
    "    i = 0\n",
    "    for k in [24,25,26,27,28,29]:\n",
    "        start_time = datetime.strptime('2016-10-18 08:00:00',\"%Y-%m-%d %H:%M:%S\")\n",
    "        for day in range(n_day):\n",
    "            starttime = start_time + timedelta(days=day)\n",
    "            tollgate.append(tollgate_id)\n",
    "            time_window.append('\\\"[' + (starttime + timedelta(seconds=1200*i)).strftime(\"%Y-%m-%d %H:%M:%S\")\\\n",
    "                               + \",\" + (starttime + timedelta(seconds=1200*i+1200)).strftime(\"%Y-%m-%d %H:%M:%S\") + ')\\\"')\n",
    "            direction.append(0)\n",
    "            volume.append(agv_volume_in[day][k])\n",
    "        i+=1\n",
    "    \n",
    "    ## 上午流出流量\n",
    "    if tollgate_id in test_data_out.keys():\n",
    "        agv_volume_out = test_data_out[tollgate_id]\n",
    "        i = 0\n",
    "        for k in [24,25,26,27,28,29]:\n",
    "            start_time = datetime.strptime('2016-10-18 08:00:00',\"%Y-%m-%d %H:%M:%S\")\n",
    "            for day in range(n_day):\n",
    "                starttime = start_time + timedelta(days=day)\n",
    "                tollgate.append(tollgate_id)\n",
    "                time_window.append('\\\"[' + (starttime + timedelta(seconds=1200*i)).strftime(\"%Y-%m-%d %H:%M:%S\")\\\n",
    "                                   + \",\" + (starttime + timedelta(seconds=1200*i+1200)).strftime(\"%Y-%m-%d %H:%M:%S\") + ')\\\"')\n",
    "                direction.append(1)\n",
    "                volume.append(agv_volume_out[day][k])\n",
    "            i+=1\n",
    "\n",
    " \n",
    "for tollgate_id in ['1','2','3']:\n",
    "    agv_volume_in = test_data_in[tollgate_id]\n",
    "    \n",
    "    ## 下午进入流量\n",
    "    i = 0\n",
    "    for k in [51,52,53,54,55,56]:\n",
    "        start_time = datetime.strptime('2016-10-18 17:00:00',\"%Y-%m-%d %H:%M:%S\")\n",
    "        for day in range(n_day):\n",
    "            starttime = start_time + timedelta(days=day)\n",
    "            tollgate.append(tollgate_id)\n",
    "            time_window.append('\\\"[' + (starttime + timedelta(seconds=1200*i)).strftime(\"%Y-%m-%d %H:%M:%S\")\\\n",
    "                               + \",\" + (starttime + timedelta(seconds=1200*i+1200)).strftime(\"%Y-%m-%d %H:%M:%S\") + ')\\\"')\n",
    "            direction.append(0)\n",
    "            volume.append(agv_volume_in[day][k])\n",
    "        i+=1\n",
    "    \n",
    "    ## 下午流出流量\n",
    "    if tollgate_id in test_data_out.keys():\n",
    "        agv_volume_out = test_data_out[tollgate_id]\n",
    "        i = 0\n",
    "        for k in [51,52,53,54,55,56]:\n",
    "            start_time = datetime.strptime('2016-10-18 17:00:00',\"%Y-%m-%d %H:%M:%S\")\n",
    "            for day in range(n_day):\n",
    "                starttime = start_time + timedelta(days=day)\n",
    "                tollgate.append(tollgate_id)\n",
    "                time_window.append('\\\"[' + (starttime + timedelta(seconds=1200*i)).strftime(\"%Y-%m-%d %H:%M:%S\")\\\n",
    "                                   + \",\" + (starttime + timedelta(seconds=1200*i+1200)).strftime(\"%Y-%m-%d %H:%M:%S\") + ')\\\"')\n",
    "                direction.append(1)\n",
    "                volume.append(agv_volume_out[day][k])\n",
    "            i+=1\n",
    "\n",
    "d = {\"tollgate_id\":tollgate,\"time_window\":time_window,\"direction\":direction,\"volume\":volume}\n",
    "pd = DataFrame(data=d)\n",
    "pd.to_csv('volume.csv',index=False,columns=[\"tollgate_id\",\"time_window\",\"direction\",\"volume\"])"
   ]
  }
 ],
 "metadata": {
  "anaconda-cloud": {},
  "kernelspec": {
   "display_name": "Python [conda root]",
   "language": "python",
   "name": "conda-root-py"
  },
  "language_info": {
   "codemirror_mode": {
    "name": "ipython",
    "version": 2
   },
   "file_extension": ".py",
   "mimetype": "text/x-python",
   "name": "python",
   "nbconvert_exporter": "python",
   "pygments_lexer": "ipython2",
   "version": "2.7.12"
  }
 },
 "nbformat": 4,
 "nbformat_minor": 1
}
