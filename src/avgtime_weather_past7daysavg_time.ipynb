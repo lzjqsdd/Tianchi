{
 "cells": [
  {
   "cell_type": "code",
   "execution_count": 1,
   "metadata": {
    "collapsed": false
   },
   "outputs": [],
   "source": [
    "import pandas as pd\n",
    "import numpy as np\n",
    "from datetime import datetime\n",
    "from datetime import timedelta\n",
    "start_time=datetime.strptime(\"2016-07-19 00:00:00\",'%Y-%m-%d %H:%M:%S')"
   ]
  },
  {
   "cell_type": "code",
   "execution_count": 2,
   "metadata": {
    "collapsed": false
   },
   "outputs": [],
   "source": [
    "df = pd.read_csv('../dataSets/training/weather_training_update.csv')\n",
    "#没有第83天的数据\n",
    "Weather={}\n",
    "df=df[144:]\n",
    "for idx in range(df.shape[0]):\n",
    "    line=df.iloc[idx]\n",
    "    time=str(line['date'])+' '+str(line['hour'])+':00:00'\n",
    "    stime=datetime.strptime(time,'%Y-%m-%d %H:%M:%S')\n",
    "    day=(stime-start_time).days\n",
    "    twn_start=(stime.hour)*3\n",
    "    for twn in range(twn_start,twn_start+9):\n",
    "        if day not in Weather.keys():\n",
    "            Weather[day]=np.zeros(72*7).reshape(72,7)\n",
    "        Weather[day][twn]=line[2:]\n",
    "        "
   ]
  },
  {
   "cell_type": "code",
   "execution_count": 3,
   "metadata": {
    "collapsed": false
   },
   "outputs": [],
   "source": [
    "df = pd.read_csv('../dataSets/training/training_20min_avg_travel_time.csv')\n",
    "trajectories_train = {}\n",
    "#trajectories_train \n",
    "#shape是91*72*15,其中15：0:avg_travel_time;[1:8]:Weather信息;[8:16]：分别是前7天对应的avg_travel_time\n",
    "for idx in range(df.shape[0]):\n",
    "    line = df.iloc[idx]\n",
    "    route = str(line['intersection_id']+str(line['tollgate_id']))\n",
    "    stime = datetime.strptime(line['time_window'][1:20],'%Y-%m-%d %H:%M:%S')\n",
    "    day = (stime - start_time).days\n",
    "    tw_n = (stime.hour * 60 + stime.minute)/20\n",
    "    \n",
    "    if route not in trajectories_train.keys():\n",
    "        trajectories_train[route] = np.zeros(72*91*15).reshape(91,72,15)\n",
    "    \n",
    "    trajectories_train[route][day][tw_n][0] = line['avg_travel_time']\n",
    "    if day!=83:\n",
    "        trajectories_train[route][day][tw_n][1:8]=Weather[day][tw_n]\n",
    "    if day>6:\n",
    "        k=7\n",
    "        for i in range(8,15):\n",
    "            trajectories_train[route][day][tw_n][i]=trajectories_train[route][day-k][tw_n][0]\n",
    "            k=k-1"
   ]
  },
  {
   "cell_type": "code",
   "execution_count": 4,
   "metadata": {
    "collapsed": false
   },
   "outputs": [],
   "source": [
    "weather_history = trajectories_train"
   ]
  },
  {
   "cell_type": "markdown",
   "metadata": {},
   "source": [
    "## 综合"
   ]
  },
  {
   "cell_type": "code",
   "execution_count": 5,
   "metadata": {
    "collapsed": true
   },
   "outputs": [],
   "source": [
    "import pandas as pd\n",
    "import numpy as np\n",
    "from datetime import datetime\n",
    "from datetime import timedelta\n",
    "from copy import deepcopy\n",
    "\n",
    "df = pd.read_csv('../dataSets/training/training_20min_avg_travel_time.csv')\n",
    "\n",
    "\n",
    "trajectories_train = {}\n",
    "start_time  = datetime.strptime(\"2016-07-19 00:00:00\",'%Y-%m-%d %H:%M:%S')\n",
    "\n",
    "for idx in range(df.shape[0]):\n",
    "    line = df.iloc[idx]\n",
    "    route = str(line['intersection_id']+str(line['tollgate_id']))\n",
    "    stime = datetime.strptime(line['time_window'][1:20],'%Y-%m-%d %H:%M:%S')\n",
    "    day = (stime - start_time).days\n",
    "    tw_n = (stime.hour * 60 + stime.minute)/20\n",
    "    \n",
    "    if route not in trajectories_train.keys():\n",
    "        trajectories_train[route] = np.zeros(72*91).reshape(91,72)\n",
    "    trajectories_train[route][day][tw_n] = line['avg_travel_time']"
   ]
  },
  {
   "cell_type": "code",
   "execution_count": 6,
   "metadata": {
    "collapsed": true
   },
   "outputs": [],
   "source": [
    "def TrueFalseListCombine(TFlist1,TFlist2):\n",
    "    return [l1 and l2 for l1,l2 in zip(TFlist1,TFlist2)]"
   ]
  },
  {
   "cell_type": "code",
   "execution_count": 7,
   "metadata": {
    "collapsed": true
   },
   "outputs": [],
   "source": [
    "def ExceptionOutlier(data_list):\n",
    "    '''\n",
    "    shape(m,n),n timewindows,m days\n",
    "    根据所给数据data_list中的时间窗的平均值和标准差来去除异常\n",
    "    '''\n",
    "    Mean = pd.DataFrame([np.mean(i) for i in data_list])\n",
    "    mean_low = Mean > Mean.quantile(0.1)\n",
    "    mean_up = Mean < Mean.quantile(0.9)\n",
    "    TF = TrueFalseListCombine(mean_low.values,mean_up.values)\n",
    "    mean_index = Mean[TF].index.values\n",
    "    \n",
    "    Std = pd.DataFrame([np.std(i) for i in data_list])\n",
    "    std_low = Std > Std.quantile(0.1)\n",
    "    std_up = Std < Std.quantile(0.9)\n",
    "    TF = TrueFalseListCombine(std_low.values,std_up.values)\n",
    "    std_index = Std[TF].index.values\n",
    "    \n",
    "    valid_index = list(set(mean_index)&set(std_index))\n",
    "    \n",
    "    return valid_index # i means minues i+1 day   "
   ]
  },
  {
   "cell_type": "code",
   "execution_count": 8,
   "metadata": {
    "collapsed": false
   },
   "outputs": [],
   "source": [
    "import numpy as np\n",
    "import matplotlib.pyplot as plt\n",
    "from sklearn import linear_model\n",
    "from sklearn.cross_validation import train_test_split\n",
    "import xgboost as xgb\n",
    "\n",
    "##数据预处理\n",
    "## shuffle\n",
    "## split\n",
    "data = trajectories_train\n",
    "#X_train,X_test,y_train,y_test = train_test_split(data[:,17:23],data[:,24],test_size=0.2,random_state = 33)\n",
    "\n",
    "##对每个路径的每个时间段的学习一个学习器\n",
    "clfs = {};\n",
    "x_tw_list = [np.arange(18,24),np.arange(19,25),np.arange(20,26),np.arange(21,27),np.arange(22,28),np.arange(23,29),\\\n",
    "             np.arange(45,51),np.arange(46,52),np.arange(47,53),np.arange(48,54),np.arange(49,55),np.arange(50,56)]\n",
    "y_tw_list = [24,25,26,27,28,29,51,52,53,54,55,56]\n",
    "\n",
    "for route in data.keys():\n",
    "    for tw_x,tw_y in zip(x_tw_list,y_tw_list):\n",
    "        #X = data[route][:,tw_x]\n",
    "        y = data[route][:,tw_y]\n",
    "        X = np.append(trajectories_train[route][:,tw_x],weather_history[route][:,tw_y,[1,2,3,4,5,6,7,14]],axis=1)\n",
    "        idx = ExceptionOutlier(X)\n",
    "        clf = xgb.XGBRegressor(max_depth=3,n_estimators=120,learning_rate=0.05).fit(X[idx],y[idx])\n",
    "        if route not in clfs.keys():\n",
    "            clfs[route] = [clf]\n",
    "        else:\n",
    "            clfs[route].append(clf)"
   ]
  },
  {
   "cell_type": "markdown",
   "metadata": {},
   "source": [
    "## 加载测试数据"
   ]
  },
  {
   "cell_type": "code",
   "execution_count": 9,
   "metadata": {
    "collapsed": false
   },
   "outputs": [],
   "source": [
    "df = pd.read_csv('../dataSets/testing_phase1/weather (table 7)_test1.csv')\n",
    "\n",
    "Weather_test={}\n",
    "for idx in range(df.shape[0]):\n",
    "    line=df.iloc[idx]\n",
    "    time=str(line['date'])+' '+str(line['hour'])+':00:00'\n",
    "    stime=datetime.strptime(time,'%Y-%m-%d %H:%M:%S')\n",
    "    day=(stime-start_time).days\n",
    "    twn_start=(stime.hour)*3\n",
    "    for twn in range(twn_start,twn_start+9):\n",
    "        if day not in Weather_test.keys():\n",
    "            Weather_test[day]=np.zeros(72*7).reshape(72,7)\n",
    "        Weather_test[day][twn]=line[2:] "
   ]
  },
  {
   "cell_type": "code",
   "execution_count": 10,
   "metadata": {
    "collapsed": false
   },
   "outputs": [],
   "source": [
    "## 10.18 - 10.24号\n",
    "df = pd.read_csv('../dataSets/testing_phase1/trajectories_20min_avg_travel_time.csv')\n",
    "trajectories_test = {}\n",
    "start_time=datetime.strptime(\"2016-10-18 00:00:00\",'%Y-%m-%d %H:%M:%S')\n",
    "\n",
    "for idx in range(df.shape[0]):\n",
    "    line = df.iloc[idx]\n",
    "    route = str(line['intersection_id']+str(line['tollgate_id']))\n",
    "    stime = datetime.strptime(line['time_window'][1:20],'%Y-%m-%d %H:%M:%S')\n",
    "    day = (stime - start_time).days\n",
    "    tw_n = (stime.hour * 60 + stime.minute)/20\n",
    "    \n",
    "    if route not in trajectories_test.keys():\n",
    "        trajectories_test[route] = np.zeros(72*7).reshape(7,72)\n",
    "    trajectories_test[route][day][tw_n] = line['avg_travel_time']"
   ]
  },
  {
   "cell_type": "code",
   "execution_count": 11,
   "metadata": {
    "collapsed": true
   },
   "outputs": [],
   "source": [
    "#把测式数据拼接到训练数据后面，便于提取特征\n",
    "for route in trajectories_train.keys():\n",
    "    trajectories_train[route] = np.append(trajectories_train[route],trajectories_test[route],axis=0)"
   ]
  },
  {
   "cell_type": "code",
   "execution_count": 12,
   "metadata": {
    "collapsed": false
   },
   "outputs": [],
   "source": [
    "## 对每个路径的每段进行预测\n",
    "x_tw_list = [np.arange(18,24),np.arange(19,25),np.arange(20,26),np.arange(21,27),np.arange(22,28),np.arange(23,29)\\\n",
    "             ,np.arange(45,51),np.arange(46,52),np.arange(47,53),np.arange(48,54),np.arange(49,55),np.arange(50,56)]\n",
    "y_tw_list = [24,25,26,27,28,29,51,52,53,54,55,56]\n",
    "\n",
    "test_data = trajectories_train\n",
    "for route in test_data.keys():\n",
    "    i = 0\n",
    "    for tw_x,tw_y in zip(x_tw_list,y_tw_list):\n",
    "        for day in range(91,98):\n",
    "            test = np.append(test_data[route][day,tw_x],np.append(test_data[route][day-7:day,tw_y],Weather_test[day][tw_y,-1])).reshape(1,14)\n",
    "            test_data[route][day][tw_y] = clfs[route][i].predict(test)"
   ]
  },
  {
   "cell_type": "markdown",
   "metadata": {},
   "source": [
    "## 输出"
   ]
  },
  {
   "cell_type": "code",
   "execution_count": 13,
   "metadata": {
    "collapsed": true
   },
   "outputs": [],
   "source": [
    "out_data = test_data;\n",
    "## 数据输出\n",
    "from datetime import datetime\n",
    "from datetime import timedelta\n",
    "from pandas import DataFrame\n",
    "\n",
    "\n",
    "intersection = []\n",
    "tollgate = []\n",
    "time_window = []\n",
    "avg_time = []\n",
    "routes = ['A2','A3',\"B1\",\"B3\",\"C1\",\"C3\"]\n",
    "for route in routes:\n",
    "    n_day = 7\n",
    "    start_time = datetime.strptime('2016-10-18 08:00:00',\"%Y-%m-%d %H:%M:%S\")\n",
    "    for day in range(n_day):\n",
    "        starttime = start_time + timedelta(days=day)\n",
    "        i = 0\n",
    "        for k in range(24,30): #(51,57)（24，30）\n",
    "            time_window.append('\\\"[' + (starttime + timedelta(seconds=1200*i)).strftime(\"%Y-%m-%d %H:%M:%S\")\\\n",
    "                               + \",\" + (starttime + timedelta(seconds=1200*i+1200)).strftime(\"%Y-%m-%d %H:%M:%S\") + ')\\\"')\n",
    "            intersection.append(str(route[0]))\n",
    "            tollgate.append(str(route[1]))\n",
    "            avg_time.append(out_data[route][day][k])\n",
    "            i+=1\n",
    "            \n",
    "for route in routes:\n",
    "    n_day = 7\n",
    "    start_time = datetime.strptime('2016-10-18 17:00:00',\"%Y-%m-%d %H:%M:%S\")\n",
    "    for day in range(n_day):\n",
    "        starttime = start_time + timedelta(days=day)\n",
    "        i = 0\n",
    "        for k in range(51,57): #(51,57)（24，30）\n",
    "            time_window.append('\\\"[' + (starttime + timedelta(seconds=1200*i)).strftime(\"%Y-%m-%d %H:%M:%S\")\\\n",
    "                               + \",\" + (starttime + timedelta(seconds=1200*i+1200)).strftime(\"%Y-%m-%d %H:%M:%S\") + ')\\\"')\n",
    "            intersection.append(str(route[0]))\n",
    "            tollgate.append(str(route[1]))\n",
    "            avg_time.append(out_data[route][day][k])\n",
    "            i+=1            \n",
    "            \n",
    "d = {\"intersection_id\":intersection,\"tollgate_id\":tollgate,\"time_window\":time_window,\"avg_travel_time\":avg_time}\n",
    "pd = DataFrame(data=d)\n",
    "pd.to_csv('out.csv',index=False,columns=[\"intersection_id\",\"tollgate_id\",\"time_window\",\"avg_travel_time\"])"
   ]
  }
 ],
 "metadata": {
  "anaconda-cloud": {},
  "kernelspec": {
   "display_name": "Python [conda root]",
   "language": "python",
   "name": "conda-root-py"
  },
  "language_info": {
   "codemirror_mode": {
    "name": "ipython",
    "version": 2
   },
   "file_extension": ".py",
   "mimetype": "text/x-python",
   "name": "python",
   "nbconvert_exporter": "python",
   "pygments_lexer": "ipython2",
   "version": "2.7.12"
  }
 },
 "nbformat": 4,
 "nbformat_minor": 1
}
