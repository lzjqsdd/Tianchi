{
 "cells": [
  {
   "cell_type": "code",
   "execution_count": 37,
   "metadata": {
    "collapsed": true
   },
   "outputs": [],
   "source": [
    "import pandas as pd\n",
    "import numpy as np\n",
    "from datetime import timedelta\n",
    "from datetime import datetime\n",
    "import matplotlib.pyplot as plt\n",
    "\n",
    "trajectories = {} ##加载的每个路线的平均运行时间数据\n",
    "volume = {}"
   ]
  },
  {
   "cell_type": "code",
   "execution_count": 166,
   "metadata": {
    "collapsed": false
   },
   "outputs": [],
   "source": [
    "def LoadData():\n",
    "    df = pd.read_csv('../dataSets/training/training_20min_avg_travel_time.csv')\n",
    "    start_time  = datetime.strptime(\"2016-07-19 00:00:00\",'%Y-%m-%d %H:%M:%S')\n",
    "\n",
    "    for idx in range(df.shape[0]):\n",
    "        line = df.iloc[idx]\n",
    "        route = str(line['intersection_id']+str(line['tollgate_id']))\n",
    "        stime = datetime.strptime(line['time_window'][1:20],'%Y-%m-%d %H:%M:%S')\n",
    "        day = (stime - start_time).days\n",
    "        tw_n = (stime.hour * 60 + stime.minute)/20\n",
    "\n",
    "        if route not in trajectories.keys():\n",
    "            trajectories[route] = np.zeros(72*91).reshape(91,72)\n",
    "        trajectories[route][day][tw_n] = line['avg_travel_time']"
   ]
  },
  {
   "cell_type": "code",
   "execution_count": 47,
   "metadata": {
    "collapsed": true
   },
   "outputs": [],
   "source": [
    "def LoadTrainAndTest(route):\n",
    "    ##切分后7天作为测试数据\n",
    "    train_data = trajectories[route][:-7]\n",
    "    test_data = trajectories[route][-7:]\n",
    "    return train_data,test_data"
   ]
  },
  {
   "cell_type": "code",
   "execution_count": 40,
   "metadata": {
    "collapsed": true
   },
   "outputs": [],
   "source": [
    "def TrueFalseListCombine(TFlist1,TFlist2):\n",
    "    return [l1 and l2 for l1,l2 in zip(TFlist1,TFlist2)]"
   ]
  },
  {
   "cell_type": "code",
   "execution_count": 41,
   "metadata": {
    "collapsed": true
   },
   "outputs": [],
   "source": [
    "def ExceptionOutlier(data_list):\n",
    "    '''\n",
    "    shape(m,n),n timewindows,m days\n",
    "    根据所给数据data_list中的时间窗的平均值和标准差来去除异常\n",
    "    '''\n",
    "    Mean = pd.DataFrame([np.mean(i) for i in data_list])\n",
    "    mean_low = Mean > Mean.quantile(0.1)\n",
    "    mean_up = Mean < Mean.quantile(0.9)\n",
    "    TF = TrueFalseListCombine(mean_low.values,mean_up.values)\n",
    "    mean_index = Mean[TF].index.values\n",
    "    \n",
    "    Std = pd.DataFrame([np.std(i) for i in data_list])\n",
    "    std_low = Std > Std.quantile(0.1)\n",
    "    std_up = Std < Std.quantile(0.9)\n",
    "    TF = TrueFalseListCombine(std_low.values,std_up.values)\n",
    "    std_index = Std[TF].index.values\n",
    "    \n",
    "    valid_index = list(set(mean_index)&set(std_index))\n",
    "    \n",
    "    return valid_index # i means minues i+1 day   "
   ]
  },
  {
   "cell_type": "code",
   "execution_count": 140,
   "metadata": {
    "collapsed": true
   },
   "outputs": [],
   "source": [
    "import pandas as pd\n",
    "def method_mean(mean_time):\n",
    "    ## 数据输出\n",
    "    intersection = []\n",
    "    tollgate = []\n",
    "    time_window = []\n",
    "    avg_time = []\n",
    "    routes = ['A2','A3',\"B1\",\"B3\",\"C1\",\"C3\"]\n",
    "    for route in routes:\n",
    "        n_day = 7\n",
    "        start_time = datetime.strptime('2016-10-18 08:00:00',\"%Y-%m-%d %H:%M:%S\")\n",
    "        for day in range(n_day):\n",
    "            starttime = start_time + timedelta(days=day)\n",
    "            i = 0\n",
    "            for k in range(24,30): #(51,57)（24，30）\n",
    "                time_window.append('\\\"[' + (starttime + timedelta(seconds=1200*i)).strftime(\"%Y-%m-%d %H:%M:%S\")\\\n",
    "                                   + \",\" + (starttime + timedelta(seconds=1200*i+1200)).strftime(\"%Y-%m-%d %H:%M:%S\") + ')\\\"')\n",
    "                intersection.append(str(route[0]))\n",
    "                tollgate.append(str(route[1]))\n",
    "                avg_time.append(mean_time[route][k])\n",
    "                i+=1\n",
    "\n",
    "    for route in routes:\n",
    "        n_day = 7\n",
    "        start_time = datetime.strptime('2016-10-18 17:00:00',\"%Y-%m-%d %H:%M:%S\")\n",
    "        for day in range(n_day):\n",
    "            starttime = start_time + timedelta(days=day)\n",
    "            i = 0\n",
    "            for k in range(51,57): #(51,57)（24，30）\n",
    "                time_window.append('\\\"[' + (starttime + timedelta(seconds=1200*i)).strftime(\"%Y-%m-%d %H:%M:%S\")\\\n",
    "                                   + \",\" + (starttime + timedelta(seconds=1200*i+1200)).strftime(\"%Y-%m-%d %H:%M:%S\") + ')\\\"')\n",
    "                intersection.append(str(route[0]))\n",
    "                tollgate.append(str(route[1]))\n",
    "                avg_time.append(mean_time[route][k])\n",
    "                i+=1            \n",
    "\n",
    "    d = {\"intersection_id\":intersection,\"tollgate_id\":tollgate,\"time_window\":time_window,\"avg_travel_time\":avg_time}\n",
    "    pdf = pd.DataFrame(data=d)\n",
    "    pdf.to_csv('out.csv',index=False,columns=[\"intersection_id\",\"tollgate_id\",\"time_window\",\"avg_travel_time\"])\n",
    "    return np.array(avg_time)"
   ]
  },
  {
   "cell_type": "code",
   "execution_count": 191,
   "metadata": {
    "collapsed": true
   },
   "outputs": [],
   "source": [
    "def predict_meantime(route):\n",
    "    ##使用均值法\n",
    "    ##预测10.18 到 10.24的8~10点以及17~18点。对两个时间段分别取训练数据\n",
    "    ##对于8～10点的预测和其后的时间段是没有关系的\n",
    "    #train_data,test_data = LoadTrainAndTest(route)\n",
    "    train_data = trajectories[route]\n",
    "    \n",
    "    data_morning = train_data[:,18:24]\n",
    "    idx_without_outlier = ExceptionOutlier(data_morning)\n",
    "    data_morning_without_outlier = train_data[idx_without_outlier]\n",
    "    mean_morning = np.mean(np.array(data_morning_without_outlier),axis=0)\n",
    "    \n",
    "    data_afternoon = train_data[:,45:51]\n",
    "    idx_without_outlier = ExceptionOutlier(data_afternoon)\n",
    "    data_afternoon_without_outlier = train_data[idx_without_outlier]\n",
    "    mean_afternoon = np.mean(np.array(data_afternoon_without_outlier),axis=0)\n",
    "    \n",
    "    mean_data = np.zeros(72)\n",
    "    mean_data[24:30] = mean_morning[24:30]\n",
    "    mean_data[51:57] = mean_afternoon[51:57]\n",
    "    \n",
    "    return mean_data"
   ]
  },
  {
   "cell_type": "code",
   "execution_count": 189,
   "metadata": {
    "collapsed": false
   },
   "outputs": [],
   "source": [
    "def mape_t(true_data,predict_data):\n",
    "    '''\n",
    "    predict_data包含72个时间窗,对于每个route，其预测值为numpy.array格式\n",
    "    predict_data为每一天预测的时间窗的预测平均运行时间,np.array类型\n",
    "    12个时间窗\n",
    "    '''  \n",
    "    diff = true_data-predict_data\n",
    "    summ = 0\n",
    "    count = 0\n",
    "    for x,d in zip(true_data,diff):\n",
    "        if x == 0:\n",
    "            continue\n",
    "        else:\n",
    "            count+=1\n",
    "            summ += (abs(d)/x)\n",
    "    \n",
    "    #print \"MAPE_Trajectories is %f\" % np.mean(np.mean(np.abs(diff)/true_data,axis=1))\n",
    "    print \"MAPE_Trajectories is %f\" % (summ/count)"
   ]
  },
  {
   "cell_type": "code",
   "execution_count": 192,
   "metadata": {
    "collapsed": true
   },
   "outputs": [],
   "source": [
    "def LoadTestData():\n",
    "    test_data = []\n",
    "    for route in trajectories.keys():\n",
    "        test_route = trajectories[route][-7:][:,[24,25,26,27,28,29,51,52,53,54,55,56]].flatten()\n",
    "        test_data.append(test_route)\n",
    "    test_data = np.array(test_data).flatten()\n",
    "    return test_data"
   ]
  },
  {
   "cell_type": "code",
   "execution_count": 193,
   "metadata": {
    "collapsed": true
   },
   "outputs": [],
   "source": [
    "LoadData()"
   ]
  },
  {
   "cell_type": "code",
   "execution_count": 194,
   "metadata": {
    "collapsed": false
   },
   "outputs": [],
   "source": [
    "out_data = {}\n",
    "for route in trajectories.keys():\n",
    "    out_data[route] = predict_meantime(route)"
   ]
  },
  {
   "cell_type": "code",
   "execution_count": 195,
   "metadata": {
    "collapsed": false
   },
   "outputs": [],
   "source": [
    "predict_data = method_mean(out_data)\n",
    "test_data = LoadTestData()"
   ]
  },
  {
   "cell_type": "code",
   "execution_count": 179,
   "metadata": {
    "collapsed": false
   },
   "outputs": [
    {
     "data": {
      "text/plain": [
       "array([[   0.  ,   58.05,    0.  , ...,   54.59,   84.37,   67.96],\n",
       "       [   0.  ,   37.89,   83.66, ...,   49.75,   55.15,   56.67],\n",
       "       [  39.21,    0.  ,    0.  , ...,   39.15,   64.95,  122.84],\n",
       "       ..., \n",
       "       [  59.6 ,   46.68,   42.41, ...,    0.  ,    0.  ,   59.24],\n",
       "       [  59.43,   45.7 ,   45.34, ...,    0.  ,   42.05,   52.26],\n",
       "       [  59.61,   40.03,    0.  , ...,   50.9 ,   79.21,   42.27]])"
      ]
     },
     "execution_count": 179,
     "metadata": {},
     "output_type": "execute_result"
    }
   ],
   "source": [
    "trajectories['A2']"
   ]
  },
  {
   "cell_type": "code",
   "execution_count": 190,
   "metadata": {
    "collapsed": false
   },
   "outputs": [
    {
     "name": "stdout",
     "output_type": "stream",
     "text": [
      "MAPE_Trajectories is 0.367042\n"
     ]
    }
   ],
   "source": [
    "mape_t(test_data,predict_data)"
   ]
  }
 ],
 "metadata": {
  "anaconda-cloud": {},
  "kernelspec": {
   "display_name": "Python [conda root]",
   "language": "python",
   "name": "conda-root-py"
  },
  "language_info": {
   "codemirror_mode": {
    "name": "ipython",
    "version": 2
   },
   "file_extension": ".py",
   "mimetype": "text/x-python",
   "name": "python",
   "nbconvert_exporter": "python",
   "pygments_lexer": "ipython2",
   "version": "2.7.12"
  }
 },
 "nbformat": 4,
 "nbformat_minor": 1
}
